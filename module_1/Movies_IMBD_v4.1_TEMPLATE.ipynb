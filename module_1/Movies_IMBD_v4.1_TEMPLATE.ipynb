{
 "cells": [
  {
   "cell_type": "code",
   "execution_count": 1,
   "metadata": {
    "_cell_guid": "b1076dfc-b9ad-4769-8c92-a6c4dae69d19",
    "_uuid": "8f2839f25d086af736a60e9eeb907d3b93b6e0e5",
    "colab": {},
    "colab_type": "code",
    "id": "U2D2gTdJVp90"
   },
   "outputs": [],
   "source": [
    "import numpy as np\n",
    "import pandas as pd\n",
    "import seaborn as sns\n",
    "import matplotlib.pyplot as plt\n",
    "from collections import Counter\n",
    "import itertools"
   ]
  },
  {
   "cell_type": "code",
   "execution_count": 2,
   "metadata": {
    "_cell_guid": "79c7e3d0-c299-4dcb-8224-4455121ee9b0",
    "_uuid": "d629ff2d2480ee46fbb7e2d37f6b5fab8052498a",
    "colab": {},
    "colab_type": "code",
    "id": "oyGfxL3eVp9-",
    "scrolled": true
   },
   "outputs": [
    {
     "data": {
      "text/html": [
       "<div>\n",
       "<style scoped>\n",
       "    .dataframe tbody tr th:only-of-type {\n",
       "        vertical-align: middle;\n",
       "    }\n",
       "\n",
       "    .dataframe tbody tr th {\n",
       "        vertical-align: top;\n",
       "    }\n",
       "\n",
       "    .dataframe thead th {\n",
       "        text-align: right;\n",
       "    }\n",
       "</style>\n",
       "<table border=\"1\" class=\"dataframe\">\n",
       "  <thead>\n",
       "    <tr style=\"text-align: right;\">\n",
       "      <th></th>\n",
       "      <th>imdb_id</th>\n",
       "      <th>budget</th>\n",
       "      <th>revenue</th>\n",
       "      <th>original_title</th>\n",
       "      <th>cast</th>\n",
       "      <th>director</th>\n",
       "      <th>tagline</th>\n",
       "      <th>overview</th>\n",
       "      <th>runtime</th>\n",
       "      <th>genres</th>\n",
       "      <th>production_companies</th>\n",
       "      <th>release_date</th>\n",
       "      <th>vote_average</th>\n",
       "      <th>release_year</th>\n",
       "    </tr>\n",
       "  </thead>\n",
       "  <tbody>\n",
       "    <tr>\n",
       "      <th>211</th>\n",
       "      <td>tt3322940</td>\n",
       "      <td>6500000</td>\n",
       "      <td>255273813</td>\n",
       "      <td>Annabelle</td>\n",
       "      <td>Annabelle Wallis|Alfre Woodard|Eric Ladin|Tony...</td>\n",
       "      <td>John R. Leonetti</td>\n",
       "      <td>Before the Conjuring, there was Annabelle.</td>\n",
       "      <td>John Form has found the perfect gift for his e...</td>\n",
       "      <td>99</td>\n",
       "      <td>Horror</td>\n",
       "      <td>New Line Cinema|The Safran Company|Evergreen M...</td>\n",
       "      <td>10/2/2014</td>\n",
       "      <td>5.6</td>\n",
       "      <td>2014</td>\n",
       "    </tr>\n",
       "    <tr>\n",
       "      <th>736</th>\n",
       "      <td>tt1499658</td>\n",
       "      <td>35000000</td>\n",
       "      <td>117000000</td>\n",
       "      <td>Horrible Bosses</td>\n",
       "      <td>Jennifer Aniston|Jason Bateman|Charlie Day|Jas...</td>\n",
       "      <td>Seth Gordon</td>\n",
       "      <td>Ever wish your boss was dead?</td>\n",
       "      <td>For Nick (Jason Bateman), Kurt (Jason Sudeikis...</td>\n",
       "      <td>98</td>\n",
       "      <td>Comedy|Crime</td>\n",
       "      <td>New Line Cinema|Rat Entertainment</td>\n",
       "      <td>7/8/2011</td>\n",
       "      <td>6.4</td>\n",
       "      <td>2011</td>\n",
       "    </tr>\n",
       "    <tr>\n",
       "      <th>891</th>\n",
       "      <td>tt0281358</td>\n",
       "      <td>11000000</td>\n",
       "      <td>41227069</td>\n",
       "      <td>A Walk to Remember</td>\n",
       "      <td>Mandy Moore|Shane West|Peter Coyote|Daryl Hann...</td>\n",
       "      <td>Adam Shankman</td>\n",
       "      <td>She didn't belong. She was misunderstood. And ...</td>\n",
       "      <td>When the popular, restless Landon Carter is fo...</td>\n",
       "      <td>101</td>\n",
       "      <td>Drama|Family|Romance</td>\n",
       "      <td>Pandora Pictures|Warner Bros.</td>\n",
       "      <td>1/25/2002</td>\n",
       "      <td>7.3</td>\n",
       "      <td>2002</td>\n",
       "    </tr>\n",
       "    <tr>\n",
       "      <th>1794</th>\n",
       "      <td>tt0367959</td>\n",
       "      <td>50000000</td>\n",
       "      <td>82169884</td>\n",
       "      <td>Hannibal Rising</td>\n",
       "      <td>Gaspard Ulliel|Aaran Thomas|Gong Li|Dominic We...</td>\n",
       "      <td>Peter Webber</td>\n",
       "      <td>It started with revenge.</td>\n",
       "      <td>The story of the early, murderous roots of the...</td>\n",
       "      <td>121</td>\n",
       "      <td>Crime|Drama|Thriller</td>\n",
       "      <td>Ingenious Film Partners|ETIC Films|Quinta Comm...</td>\n",
       "      <td>2/6/2007</td>\n",
       "      <td>6.0</td>\n",
       "      <td>2007</td>\n",
       "    </tr>\n",
       "    <tr>\n",
       "      <th>1097</th>\n",
       "      <td>tt0283426</td>\n",
       "      <td>20000000</td>\n",
       "      <td>135680000</td>\n",
       "      <td>The Jungle Book 2</td>\n",
       "      <td>John Goodman|Haley Joel Osment|Mae Whitman|Phi...</td>\n",
       "      <td>Steve Trenbirth</td>\n",
       "      <td>Feel the jungle beat</td>\n",
       "      <td>Mowgli, missing the jungle and his old friends...</td>\n",
       "      <td>72</td>\n",
       "      <td>Family|Animation|Adventure</td>\n",
       "      <td>Walt Disney Pictures|Walt Disney Television An...</td>\n",
       "      <td>2/7/2003</td>\n",
       "      <td>5.6</td>\n",
       "      <td>2003</td>\n",
       "    </tr>\n",
       "  </tbody>\n",
       "</table>\n",
       "</div>"
      ],
      "text/plain": [
       "        imdb_id    budget    revenue      original_title  \\\n",
       "211   tt3322940   6500000  255273813           Annabelle   \n",
       "736   tt1499658  35000000  117000000     Horrible Bosses   \n",
       "891   tt0281358  11000000   41227069  A Walk to Remember   \n",
       "1794  tt0367959  50000000   82169884     Hannibal Rising   \n",
       "1097  tt0283426  20000000  135680000   The Jungle Book 2   \n",
       "\n",
       "                                                   cast          director  \\\n",
       "211   Annabelle Wallis|Alfre Woodard|Eric Ladin|Tony...  John R. Leonetti   \n",
       "736   Jennifer Aniston|Jason Bateman|Charlie Day|Jas...       Seth Gordon   \n",
       "891   Mandy Moore|Shane West|Peter Coyote|Daryl Hann...     Adam Shankman   \n",
       "1794  Gaspard Ulliel|Aaran Thomas|Gong Li|Dominic We...      Peter Webber   \n",
       "1097  John Goodman|Haley Joel Osment|Mae Whitman|Phi...   Steve Trenbirth   \n",
       "\n",
       "                                                tagline  \\\n",
       "211          Before the Conjuring, there was Annabelle.   \n",
       "736                       Ever wish your boss was dead?   \n",
       "891   She didn't belong. She was misunderstood. And ...   \n",
       "1794                           It started with revenge.   \n",
       "1097                               Feel the jungle beat   \n",
       "\n",
       "                                               overview  runtime  \\\n",
       "211   John Form has found the perfect gift for his e...       99   \n",
       "736   For Nick (Jason Bateman), Kurt (Jason Sudeikis...       98   \n",
       "891   When the popular, restless Landon Carter is fo...      101   \n",
       "1794  The story of the early, murderous roots of the...      121   \n",
       "1097  Mowgli, missing the jungle and his old friends...       72   \n",
       "\n",
       "                          genres  \\\n",
       "211                       Horror   \n",
       "736                 Comedy|Crime   \n",
       "891         Drama|Family|Romance   \n",
       "1794        Crime|Drama|Thriller   \n",
       "1097  Family|Animation|Adventure   \n",
       "\n",
       "                                   production_companies release_date  \\\n",
       "211   New Line Cinema|The Safran Company|Evergreen M...    10/2/2014   \n",
       "736                   New Line Cinema|Rat Entertainment     7/8/2011   \n",
       "891                       Pandora Pictures|Warner Bros.    1/25/2002   \n",
       "1794  Ingenious Film Partners|ETIC Films|Quinta Comm...     2/6/2007   \n",
       "1097  Walt Disney Pictures|Walt Disney Television An...     2/7/2003   \n",
       "\n",
       "      vote_average  release_year  \n",
       "211            5.6          2014  \n",
       "736            6.4          2011  \n",
       "891            7.3          2002  \n",
       "1794           6.0          2007  \n",
       "1097           5.6          2003  "
      ]
     },
     "execution_count": 2,
     "metadata": {},
     "output_type": "execute_result"
    }
   ],
   "source": [
    "data = pd.read_csv(\"C:/Users/Gigabyte/dataCsv/movie_bd_v5.csv\")\n",
    "data.sample(5)"
   ]
  },
  {
   "cell_type": "code",
   "execution_count": 3,
   "metadata": {
    "colab": {},
    "colab_type": "code",
    "id": "CoYUnagMVp-C"
   },
   "outputs": [
    {
     "data": {
      "text/html": [
       "<div>\n",
       "<style scoped>\n",
       "    .dataframe tbody tr th:only-of-type {\n",
       "        vertical-align: middle;\n",
       "    }\n",
       "\n",
       "    .dataframe tbody tr th {\n",
       "        vertical-align: top;\n",
       "    }\n",
       "\n",
       "    .dataframe thead th {\n",
       "        text-align: right;\n",
       "    }\n",
       "</style>\n",
       "<table border=\"1\" class=\"dataframe\">\n",
       "  <thead>\n",
       "    <tr style=\"text-align: right;\">\n",
       "      <th></th>\n",
       "      <th>budget</th>\n",
       "      <th>revenue</th>\n",
       "      <th>runtime</th>\n",
       "      <th>vote_average</th>\n",
       "      <th>release_year</th>\n",
       "    </tr>\n",
       "  </thead>\n",
       "  <tbody>\n",
       "    <tr>\n",
       "      <th>count</th>\n",
       "      <td>1.889000e+03</td>\n",
       "      <td>1.889000e+03</td>\n",
       "      <td>1889.000000</td>\n",
       "      <td>1889.000000</td>\n",
       "      <td>1889.000000</td>\n",
       "    </tr>\n",
       "    <tr>\n",
       "      <th>mean</th>\n",
       "      <td>5.431083e+07</td>\n",
       "      <td>1.553653e+08</td>\n",
       "      <td>109.658549</td>\n",
       "      <td>6.140762</td>\n",
       "      <td>2007.860773</td>\n",
       "    </tr>\n",
       "    <tr>\n",
       "      <th>std</th>\n",
       "      <td>4.858721e+07</td>\n",
       "      <td>2.146698e+08</td>\n",
       "      <td>18.017041</td>\n",
       "      <td>0.764763</td>\n",
       "      <td>4.468841</td>\n",
       "    </tr>\n",
       "    <tr>\n",
       "      <th>min</th>\n",
       "      <td>5.000000e+06</td>\n",
       "      <td>2.033165e+06</td>\n",
       "      <td>63.000000</td>\n",
       "      <td>3.300000</td>\n",
       "      <td>2000.000000</td>\n",
       "    </tr>\n",
       "    <tr>\n",
       "      <th>25%</th>\n",
       "      <td>2.000000e+07</td>\n",
       "      <td>3.456058e+07</td>\n",
       "      <td>97.000000</td>\n",
       "      <td>5.600000</td>\n",
       "      <td>2004.000000</td>\n",
       "    </tr>\n",
       "    <tr>\n",
       "      <th>50%</th>\n",
       "      <td>3.800000e+07</td>\n",
       "      <td>8.361541e+07</td>\n",
       "      <td>107.000000</td>\n",
       "      <td>6.100000</td>\n",
       "      <td>2008.000000</td>\n",
       "    </tr>\n",
       "    <tr>\n",
       "      <th>75%</th>\n",
       "      <td>7.200000e+07</td>\n",
       "      <td>1.782626e+08</td>\n",
       "      <td>120.000000</td>\n",
       "      <td>6.600000</td>\n",
       "      <td>2012.000000</td>\n",
       "    </tr>\n",
       "    <tr>\n",
       "      <th>max</th>\n",
       "      <td>3.800000e+08</td>\n",
       "      <td>2.781506e+09</td>\n",
       "      <td>214.000000</td>\n",
       "      <td>8.100000</td>\n",
       "      <td>2015.000000</td>\n",
       "    </tr>\n",
       "  </tbody>\n",
       "</table>\n",
       "</div>"
      ],
      "text/plain": [
       "             budget       revenue      runtime  vote_average  release_year\n",
       "count  1.889000e+03  1.889000e+03  1889.000000   1889.000000   1889.000000\n",
       "mean   5.431083e+07  1.553653e+08   109.658549      6.140762   2007.860773\n",
       "std    4.858721e+07  2.146698e+08    18.017041      0.764763      4.468841\n",
       "min    5.000000e+06  2.033165e+06    63.000000      3.300000   2000.000000\n",
       "25%    2.000000e+07  3.456058e+07    97.000000      5.600000   2004.000000\n",
       "50%    3.800000e+07  8.361541e+07   107.000000      6.100000   2008.000000\n",
       "75%    7.200000e+07  1.782626e+08   120.000000      6.600000   2012.000000\n",
       "max    3.800000e+08  2.781506e+09   214.000000      8.100000   2015.000000"
      ]
     },
     "execution_count": 3,
     "metadata": {},
     "output_type": "execute_result"
    }
   ],
   "source": [
    "data.describe()"
   ]
  },
  {
   "cell_type": "markdown",
   "metadata": {
    "colab_type": "text",
    "id": "DTIt7ezGVp-G"
   },
   "source": [
    "# Предобработка"
   ]
  },
  {
   "cell_type": "code",
   "execution_count": 4,
   "metadata": {
    "colab": {},
    "colab_type": "code",
    "id": "jNb40DwKVp-H"
   },
   "outputs": [],
   "source": [
    "answers = {} # создадим словарь для ответов\n",
    "\n",
    "# тут другие ваши предобработки колонок например:\n",
    "\n",
    "#the time given in the dataset is in string format.\n",
    "#So we need to change this in datetime format\n",
    "#...\n",
    "\n",
    "# We need to add a profit column. Profit = revenue - budget\n",
    "data[\"profit\"] = data.revenue - data.budget\n",
    "\n",
    "# Function to count genres. Has parameter: most popular genre\n",
    "def genres_function(data, most_popular=False):\n",
    "    genres_count = {}\n",
    "    \n",
    "    if most_popular:\n",
    "        separated_genres = \"|\".join(list(data.genres)).split(\"|\")\n",
    "        for genre in separated_genres:\n",
    "            \n",
    "            if genre in genres_count:\n",
    "                genres_count[genre] += 1\n",
    "            else:\n",
    "                genres_count[genre] = 1\n",
    "                \n",
    "            if len(genres_count) == 1:\n",
    "                last_genre = genre\n",
    "            elif genres_count[last_genre] < genres_count[genre]:\n",
    "                last_genre = genre\n",
    "                \n",
    "        return last_genre\n",
    "    "
   ]
  },
  {
   "cell_type": "markdown",
   "metadata": {
    "colab_type": "text",
    "id": "YxZaH-nPVp-L"
   },
   "source": [
    "# 1. У какого фильма из списка самый большой бюджет?"
   ]
  },
  {
   "cell_type": "markdown",
   "metadata": {
    "colab_type": "text",
    "id": "Nd-G5gX6Vp-M"
   },
   "source": [
    "Использовать варианты ответов в коде решения запрещено.    \n",
    "Вы думаете и в жизни у вас будут варианты ответов?)"
   ]
  },
  {
   "cell_type": "code",
   "execution_count": 5,
   "metadata": {
    "colab": {},
    "colab_type": "code",
    "id": "uVnXAY5RVp-O"
   },
   "outputs": [],
   "source": [
    "# в словарь вставляем номер вопроса и ваш ответ на него\n",
    "# Пример: \n",
    "# answers['1'] = '2. Spider-Man 3 (tt0413300)'\n",
    "# запишите свой вариант ответа\n",
    "# +\n",
    "answers[\"1\"] = \"723. Pirates of the Caribbean: On Stranger Tides (tt1298650)\"\n",
    "# если ответили верно, можете добавить комментарий со значком \"+\""
   ]
  },
  {
   "cell_type": "code",
   "execution_count": 6,
   "metadata": {
    "colab": {},
    "colab_type": "code",
    "id": "dZwb3m28Vp-S"
   },
   "outputs": [
    {
     "data": {
      "text/html": [
       "<div>\n",
       "<style scoped>\n",
       "    .dataframe tbody tr th:only-of-type {\n",
       "        vertical-align: middle;\n",
       "    }\n",
       "\n",
       "    .dataframe tbody tr th {\n",
       "        vertical-align: top;\n",
       "    }\n",
       "\n",
       "    .dataframe thead th {\n",
       "        text-align: right;\n",
       "    }\n",
       "</style>\n",
       "<table border=\"1\" class=\"dataframe\">\n",
       "  <thead>\n",
       "    <tr style=\"text-align: right;\">\n",
       "      <th></th>\n",
       "      <th>imdb_id</th>\n",
       "      <th>budget</th>\n",
       "      <th>revenue</th>\n",
       "      <th>original_title</th>\n",
       "      <th>cast</th>\n",
       "      <th>director</th>\n",
       "      <th>tagline</th>\n",
       "      <th>overview</th>\n",
       "      <th>runtime</th>\n",
       "      <th>genres</th>\n",
       "      <th>production_companies</th>\n",
       "      <th>release_date</th>\n",
       "      <th>vote_average</th>\n",
       "      <th>release_year</th>\n",
       "      <th>profit</th>\n",
       "    </tr>\n",
       "  </thead>\n",
       "  <tbody>\n",
       "    <tr>\n",
       "      <th>723</th>\n",
       "      <td>tt1298650</td>\n",
       "      <td>380000000</td>\n",
       "      <td>1021683000</td>\n",
       "      <td>Pirates of the Caribbean: On Stranger Tides</td>\n",
       "      <td>Johnny Depp|PenÃ©lope Cruz|Geoffrey Rush|Ian M...</td>\n",
       "      <td>Rob Marshall</td>\n",
       "      <td>Live Forever Or Die Trying.</td>\n",
       "      <td>Captain Jack Sparrow crosses paths with a woma...</td>\n",
       "      <td>136</td>\n",
       "      <td>Adventure|Action|Fantasy</td>\n",
       "      <td>Walt Disney Pictures|Jerry Bruckheimer Films|M...</td>\n",
       "      <td>5/11/2011</td>\n",
       "      <td>6.3</td>\n",
       "      <td>2011</td>\n",
       "      <td>641683000</td>\n",
       "    </tr>\n",
       "  </tbody>\n",
       "</table>\n",
       "</div>"
      ],
      "text/plain": [
       "       imdb_id     budget     revenue  \\\n",
       "723  tt1298650  380000000  1021683000   \n",
       "\n",
       "                                  original_title  \\\n",
       "723  Pirates of the Caribbean: On Stranger Tides   \n",
       "\n",
       "                                                  cast      director  \\\n",
       "723  Johnny Depp|PenÃ©lope Cruz|Geoffrey Rush|Ian M...  Rob Marshall   \n",
       "\n",
       "                         tagline  \\\n",
       "723  Live Forever Or Die Trying.   \n",
       "\n",
       "                                              overview  runtime  \\\n",
       "723  Captain Jack Sparrow crosses paths with a woma...      136   \n",
       "\n",
       "                       genres  \\\n",
       "723  Adventure|Action|Fantasy   \n",
       "\n",
       "                                  production_companies release_date  \\\n",
       "723  Walt Disney Pictures|Jerry Bruckheimer Films|M...    5/11/2011   \n",
       "\n",
       "     vote_average  release_year     profit  \n",
       "723           6.3          2011  641683000  "
      ]
     },
     "execution_count": 6,
     "metadata": {},
     "output_type": "execute_result"
    }
   ],
   "source": [
    "# тут пишем ваш код для решения данного вопроса:\n",
    "data[data.budget == data.budget.max()]"
   ]
  },
  {
   "cell_type": "markdown",
   "metadata": {
    "colab_type": "text",
    "id": "K7L3nbRXVp-X"
   },
   "source": [
    "ВАРИАНТ 2"
   ]
  },
  {
   "cell_type": "code",
   "execution_count": 7,
   "metadata": {
    "colab": {},
    "colab_type": "code",
    "id": "OGaoQI7rVp-X"
   },
   "outputs": [
    {
     "data": {
      "text/html": [
       "<div>\n",
       "<style scoped>\n",
       "    .dataframe tbody tr th:only-of-type {\n",
       "        vertical-align: middle;\n",
       "    }\n",
       "\n",
       "    .dataframe tbody tr th {\n",
       "        vertical-align: top;\n",
       "    }\n",
       "\n",
       "    .dataframe thead th {\n",
       "        text-align: right;\n",
       "    }\n",
       "</style>\n",
       "<table border=\"1\" class=\"dataframe\">\n",
       "  <thead>\n",
       "    <tr style=\"text-align: right;\">\n",
       "      <th></th>\n",
       "      <th>imdb_id</th>\n",
       "      <th>budget</th>\n",
       "      <th>revenue</th>\n",
       "      <th>original_title</th>\n",
       "      <th>cast</th>\n",
       "      <th>director</th>\n",
       "      <th>tagline</th>\n",
       "      <th>overview</th>\n",
       "      <th>runtime</th>\n",
       "      <th>genres</th>\n",
       "      <th>production_companies</th>\n",
       "      <th>release_date</th>\n",
       "      <th>vote_average</th>\n",
       "      <th>release_year</th>\n",
       "      <th>profit</th>\n",
       "    </tr>\n",
       "  </thead>\n",
       "  <tbody>\n",
       "    <tr>\n",
       "      <th>723</th>\n",
       "      <td>tt1298650</td>\n",
       "      <td>380000000</td>\n",
       "      <td>1021683000</td>\n",
       "      <td>Pirates of the Caribbean: On Stranger Tides</td>\n",
       "      <td>Johnny Depp|PenÃ©lope Cruz|Geoffrey Rush|Ian M...</td>\n",
       "      <td>Rob Marshall</td>\n",
       "      <td>Live Forever Or Die Trying.</td>\n",
       "      <td>Captain Jack Sparrow crosses paths with a woma...</td>\n",
       "      <td>136</td>\n",
       "      <td>Adventure|Action|Fantasy</td>\n",
       "      <td>Walt Disney Pictures|Jerry Bruckheimer Films|M...</td>\n",
       "      <td>5/11/2011</td>\n",
       "      <td>6.3</td>\n",
       "      <td>2011</td>\n",
       "      <td>641683000</td>\n",
       "    </tr>\n",
       "  </tbody>\n",
       "</table>\n",
       "</div>"
      ],
      "text/plain": [
       "       imdb_id     budget     revenue  \\\n",
       "723  tt1298650  380000000  1021683000   \n",
       "\n",
       "                                  original_title  \\\n",
       "723  Pirates of the Caribbean: On Stranger Tides   \n",
       "\n",
       "                                                  cast      director  \\\n",
       "723  Johnny Depp|PenÃ©lope Cruz|Geoffrey Rush|Ian M...  Rob Marshall   \n",
       "\n",
       "                         tagline  \\\n",
       "723  Live Forever Or Die Trying.   \n",
       "\n",
       "                                              overview  runtime  \\\n",
       "723  Captain Jack Sparrow crosses paths with a woma...      136   \n",
       "\n",
       "                       genres  \\\n",
       "723  Adventure|Action|Fantasy   \n",
       "\n",
       "                                  production_companies release_date  \\\n",
       "723  Walt Disney Pictures|Jerry Bruckheimer Films|M...    5/11/2011   \n",
       "\n",
       "     vote_average  release_year     profit  \n",
       "723           6.3          2011  641683000  "
      ]
     },
     "execution_count": 7,
     "metadata": {},
     "output_type": "execute_result"
    }
   ],
   "source": [
    "# можно добавлять разные варианты решения\n",
    "data.sort_values(\"budget\", ascending=False).head(1)"
   ]
  },
  {
   "cell_type": "markdown",
   "metadata": {
    "colab_type": "text",
    "id": "K7L3nbRXVp-X"
   },
   "source": [
    "ВАРИАНТ 3"
   ]
  },
  {
   "cell_type": "code",
   "execution_count": 8,
   "metadata": {
    "colab_type": "text",
    "id": "K7L3nbRXVp-X"
   },
   "outputs": [
    {
     "data": {
      "text/html": [
       "<div>\n",
       "<style scoped>\n",
       "    .dataframe tbody tr th:only-of-type {\n",
       "        vertical-align: middle;\n",
       "    }\n",
       "\n",
       "    .dataframe tbody tr th {\n",
       "        vertical-align: top;\n",
       "    }\n",
       "\n",
       "    .dataframe thead th {\n",
       "        text-align: right;\n",
       "    }\n",
       "</style>\n",
       "<table border=\"1\" class=\"dataframe\">\n",
       "  <thead>\n",
       "    <tr style=\"text-align: right;\">\n",
       "      <th></th>\n",
       "      <th>imdb_id</th>\n",
       "      <th>budget</th>\n",
       "      <th>revenue</th>\n",
       "      <th>original_title</th>\n",
       "      <th>cast</th>\n",
       "      <th>director</th>\n",
       "      <th>tagline</th>\n",
       "      <th>overview</th>\n",
       "      <th>runtime</th>\n",
       "      <th>genres</th>\n",
       "      <th>production_companies</th>\n",
       "      <th>release_date</th>\n",
       "      <th>vote_average</th>\n",
       "      <th>release_year</th>\n",
       "      <th>profit</th>\n",
       "    </tr>\n",
       "  </thead>\n",
       "  <tbody>\n",
       "    <tr>\n",
       "      <th>723</th>\n",
       "      <td>tt1298650</td>\n",
       "      <td>380000000</td>\n",
       "      <td>1021683000</td>\n",
       "      <td>Pirates of the Caribbean: On Stranger Tides</td>\n",
       "      <td>Johnny Depp|PenÃ©lope Cruz|Geoffrey Rush|Ian M...</td>\n",
       "      <td>Rob Marshall</td>\n",
       "      <td>Live Forever Or Die Trying.</td>\n",
       "      <td>Captain Jack Sparrow crosses paths with a woma...</td>\n",
       "      <td>136</td>\n",
       "      <td>Adventure|Action|Fantasy</td>\n",
       "      <td>Walt Disney Pictures|Jerry Bruckheimer Films|M...</td>\n",
       "      <td>5/11/2011</td>\n",
       "      <td>6.3</td>\n",
       "      <td>2011</td>\n",
       "      <td>641683000</td>\n",
       "    </tr>\n",
       "  </tbody>\n",
       "</table>\n",
       "</div>"
      ],
      "text/plain": [
       "       imdb_id     budget     revenue  \\\n",
       "723  tt1298650  380000000  1021683000   \n",
       "\n",
       "                                  original_title  \\\n",
       "723  Pirates of the Caribbean: On Stranger Tides   \n",
       "\n",
       "                                                  cast      director  \\\n",
       "723  Johnny Depp|PenÃ©lope Cruz|Geoffrey Rush|Ian M...  Rob Marshall   \n",
       "\n",
       "                         tagline  \\\n",
       "723  Live Forever Or Die Trying.   \n",
       "\n",
       "                                              overview  runtime  \\\n",
       "723  Captain Jack Sparrow crosses paths with a woma...      136   \n",
       "\n",
       "                       genres  \\\n",
       "723  Adventure|Action|Fantasy   \n",
       "\n",
       "                                  production_companies release_date  \\\n",
       "723  Walt Disney Pictures|Jerry Bruckheimer Films|M...    5/11/2011   \n",
       "\n",
       "     vote_average  release_year     profit  \n",
       "723           6.3          2011  641683000  "
      ]
     },
     "execution_count": 8,
     "metadata": {},
     "output_type": "execute_result"
    }
   ],
   "source": [
    "data.query(\"budget == budget.max()\")"
   ]
  },
  {
   "cell_type": "markdown",
   "metadata": {
    "colab_type": "text",
    "id": "FNRbbI3vVp-c"
   },
   "source": [
    "# 2. Какой из фильмов самый длительный (в минутах)?"
   ]
  },
  {
   "cell_type": "code",
   "execution_count": 9,
   "metadata": {
    "colab": {},
    "colab_type": "code",
    "id": "vHAoEXNTVp-d"
   },
   "outputs": [],
   "source": [
    "# думаю логику работы с этим словарем вы уже поняли, \n",
    "# по этому не буду больше его дублировать\n",
    "# +\n",
    "answers[\"2\"] = \"1157. Gods and Generals. (tt0279111)\""
   ]
  },
  {
   "cell_type": "code",
   "execution_count": 10,
   "metadata": {
    "colab": {},
    "colab_type": "code",
    "id": "ot-VX2XrVp-g"
   },
   "outputs": [
    {
     "data": {
      "text/html": [
       "<div>\n",
       "<style scoped>\n",
       "    .dataframe tbody tr th:only-of-type {\n",
       "        vertical-align: middle;\n",
       "    }\n",
       "\n",
       "    .dataframe tbody tr th {\n",
       "        vertical-align: top;\n",
       "    }\n",
       "\n",
       "    .dataframe thead th {\n",
       "        text-align: right;\n",
       "    }\n",
       "</style>\n",
       "<table border=\"1\" class=\"dataframe\">\n",
       "  <thead>\n",
       "    <tr style=\"text-align: right;\">\n",
       "      <th></th>\n",
       "      <th>imdb_id</th>\n",
       "      <th>budget</th>\n",
       "      <th>revenue</th>\n",
       "      <th>original_title</th>\n",
       "      <th>cast</th>\n",
       "      <th>director</th>\n",
       "      <th>tagline</th>\n",
       "      <th>overview</th>\n",
       "      <th>runtime</th>\n",
       "      <th>genres</th>\n",
       "      <th>production_companies</th>\n",
       "      <th>release_date</th>\n",
       "      <th>vote_average</th>\n",
       "      <th>release_year</th>\n",
       "      <th>profit</th>\n",
       "    </tr>\n",
       "  </thead>\n",
       "  <tbody>\n",
       "    <tr>\n",
       "      <th>1157</th>\n",
       "      <td>tt0279111</td>\n",
       "      <td>56000000</td>\n",
       "      <td>12923936</td>\n",
       "      <td>Gods and Generals</td>\n",
       "      <td>Stephen Lang|Jeff Daniels|Robert Duvall|Kevin ...</td>\n",
       "      <td>Ronald F. Maxwell</td>\n",
       "      <td>The nations heart was touched by...</td>\n",
       "      <td>The film centers mostly around the personal an...</td>\n",
       "      <td>214</td>\n",
       "      <td>Drama|History|War</td>\n",
       "      <td>Turner Pictures|Antietam Filmworks</td>\n",
       "      <td>2/21/2003</td>\n",
       "      <td>5.8</td>\n",
       "      <td>2003</td>\n",
       "      <td>-43076064</td>\n",
       "    </tr>\n",
       "  </tbody>\n",
       "</table>\n",
       "</div>"
      ],
      "text/plain": [
       "        imdb_id    budget   revenue     original_title  \\\n",
       "1157  tt0279111  56000000  12923936  Gods and Generals   \n",
       "\n",
       "                                                   cast           director  \\\n",
       "1157  Stephen Lang|Jeff Daniels|Robert Duvall|Kevin ...  Ronald F. Maxwell   \n",
       "\n",
       "                                  tagline  \\\n",
       "1157  The nations heart was touched by...   \n",
       "\n",
       "                                               overview  runtime  \\\n",
       "1157  The film centers mostly around the personal an...      214   \n",
       "\n",
       "                 genres                production_companies release_date  \\\n",
       "1157  Drama|History|War  Turner Pictures|Antietam Filmworks    2/21/2003   \n",
       "\n",
       "      vote_average  release_year    profit  \n",
       "1157           5.8          2003 -43076064  "
      ]
     },
     "execution_count": 10,
     "metadata": {},
     "output_type": "execute_result"
    }
   ],
   "source": [
    "data.query(\"runtime == runtime.max()\")"
   ]
  },
  {
   "cell_type": "markdown",
   "metadata": {
    "colab_type": "text",
    "id": "bapLlpW8Vp-k"
   },
   "source": [
    "# 3. Какой из фильмов самый короткий (в минутах)?\n",
    "\n",
    "\n",
    "\n"
   ]
  },
  {
   "cell_type": "code",
   "execution_count": 11,
   "metadata": {
    "colab": {},
    "colab_type": "code",
    "id": "vHAoEXNTVp-d"
   },
   "outputs": [],
   "source": [
    "# +\n",
    "answers[\"3\"] = \"768. Winnie the Pooh. (tt1449283)\""
   ]
  },
  {
   "cell_type": "code",
   "execution_count": 12,
   "metadata": {
    "colab": {},
    "colab_type": "code",
    "id": "YBxaSHuAVp-l",
    "scrolled": true
   },
   "outputs": [
    {
     "data": {
      "text/html": [
       "<div>\n",
       "<style scoped>\n",
       "    .dataframe tbody tr th:only-of-type {\n",
       "        vertical-align: middle;\n",
       "    }\n",
       "\n",
       "    .dataframe tbody tr th {\n",
       "        vertical-align: top;\n",
       "    }\n",
       "\n",
       "    .dataframe thead th {\n",
       "        text-align: right;\n",
       "    }\n",
       "</style>\n",
       "<table border=\"1\" class=\"dataframe\">\n",
       "  <thead>\n",
       "    <tr style=\"text-align: right;\">\n",
       "      <th></th>\n",
       "      <th>imdb_id</th>\n",
       "      <th>budget</th>\n",
       "      <th>revenue</th>\n",
       "      <th>original_title</th>\n",
       "      <th>cast</th>\n",
       "      <th>director</th>\n",
       "      <th>tagline</th>\n",
       "      <th>overview</th>\n",
       "      <th>runtime</th>\n",
       "      <th>genres</th>\n",
       "      <th>production_companies</th>\n",
       "      <th>release_date</th>\n",
       "      <th>vote_average</th>\n",
       "      <th>release_year</th>\n",
       "      <th>profit</th>\n",
       "    </tr>\n",
       "  </thead>\n",
       "  <tbody>\n",
       "    <tr>\n",
       "      <th>768</th>\n",
       "      <td>tt1449283</td>\n",
       "      <td>30000000</td>\n",
       "      <td>14460000</td>\n",
       "      <td>Winnie the Pooh</td>\n",
       "      <td>Jim Cummings|Travis Oates|Jim Cummings|Bud Luc...</td>\n",
       "      <td>Stephen Anderson|Don Hall</td>\n",
       "      <td>Oh Pooh.</td>\n",
       "      <td>During an ordinary day in Hundred Acre Wood, W...</td>\n",
       "      <td>63</td>\n",
       "      <td>Animation|Family</td>\n",
       "      <td>Walt Disney Pictures|Walt Disney Animation Stu...</td>\n",
       "      <td>4/13/2011</td>\n",
       "      <td>6.8</td>\n",
       "      <td>2011</td>\n",
       "      <td>-15540000</td>\n",
       "    </tr>\n",
       "  </tbody>\n",
       "</table>\n",
       "</div>"
      ],
      "text/plain": [
       "       imdb_id    budget   revenue   original_title  \\\n",
       "768  tt1449283  30000000  14460000  Winnie the Pooh   \n",
       "\n",
       "                                                  cast  \\\n",
       "768  Jim Cummings|Travis Oates|Jim Cummings|Bud Luc...   \n",
       "\n",
       "                      director   tagline  \\\n",
       "768  Stephen Anderson|Don Hall  Oh Pooh.   \n",
       "\n",
       "                                              overview  runtime  \\\n",
       "768  During an ordinary day in Hundred Acre Wood, W...       63   \n",
       "\n",
       "               genres                               production_companies  \\\n",
       "768  Animation|Family  Walt Disney Pictures|Walt Disney Animation Stu...   \n",
       "\n",
       "    release_date  vote_average  release_year    profit  \n",
       "768    4/13/2011           6.8          2011 -15540000  "
      ]
     },
     "execution_count": 12,
     "metadata": {},
     "output_type": "execute_result"
    }
   ],
   "source": [
    "data.sort_values(\"runtime\").head(1)"
   ]
  },
  {
   "cell_type": "markdown",
   "metadata": {
    "colab_type": "text",
    "id": "TfQbxbfNVp-p"
   },
   "source": [
    "# 4. Какова средняя длительность фильмов?\n"
   ]
  },
  {
   "cell_type": "code",
   "execution_count": 13,
   "metadata": {
    "colab": {},
    "colab_type": "code",
    "id": "vHAoEXNTVp-d"
   },
   "outputs": [],
   "source": [
    "# +\n",
    "answers[\"4\"] = \"110\""
   ]
  },
  {
   "cell_type": "code",
   "execution_count": 14,
   "metadata": {
    "colab": {},
    "colab_type": "code",
    "id": "5K6dKZYVVp-q"
   },
   "outputs": [
    {
     "data": {
      "text/plain": [
       "109.6585494970884"
      ]
     },
     "execution_count": 14,
     "metadata": {},
     "output_type": "execute_result"
    }
   ],
   "source": [
    "data.runtime.mean()"
   ]
  },
  {
   "cell_type": "markdown",
   "metadata": {
    "colab_type": "text",
    "id": "r5TvbnT_Vp-u"
   },
   "source": [
    "# 5. Каково медианное значение длительности фильмов? "
   ]
  },
  {
   "cell_type": "code",
   "execution_count": 15,
   "metadata": {
    "colab": {},
    "colab_type": "code",
    "id": "vHAoEXNTVp-d"
   },
   "outputs": [],
   "source": [
    "# +\n",
    "answers[\"5\"] = \"107\""
   ]
  },
  {
   "cell_type": "code",
   "execution_count": 16,
   "metadata": {
    "colab": {},
    "colab_type": "code",
    "id": "iBROplKnVp-v"
   },
   "outputs": [
    {
     "data": {
      "text/plain": [
       "107.0"
      ]
     },
     "execution_count": 16,
     "metadata": {},
     "output_type": "execute_result"
    }
   ],
   "source": [
    "data.runtime.median()"
   ]
  },
  {
   "cell_type": "markdown",
   "metadata": {
    "colab_type": "text",
    "id": "39P-deDSVp-y"
   },
   "source": [
    "# 6. Какой самый прибыльный фильм?\n",
    "#### Внимание! Здесь и далее под «прибылью» или «убытками» понимается разность между сборами и бюджетом фильма. (прибыль = сборы - бюджет) в нашем датасете это будет (profit = revenue - budget) "
   ]
  },
  {
   "cell_type": "code",
   "execution_count": 17,
   "metadata": {
    "colab": {},
    "colab_type": "code",
    "id": "vHAoEXNTVp-d"
   },
   "outputs": [],
   "source": [
    "# +\n",
    "answers[\"6\"] = \"239. Avatar. (tt0499549)\""
   ]
  },
  {
   "cell_type": "code",
   "execution_count": 18,
   "metadata": {
    "colab": {},
    "colab_type": "code",
    "id": "UYZh4T9WVp-y"
   },
   "outputs": [
    {
     "data": {
      "text/html": [
       "<div>\n",
       "<style scoped>\n",
       "    .dataframe tbody tr th:only-of-type {\n",
       "        vertical-align: middle;\n",
       "    }\n",
       "\n",
       "    .dataframe tbody tr th {\n",
       "        vertical-align: top;\n",
       "    }\n",
       "\n",
       "    .dataframe thead th {\n",
       "        text-align: right;\n",
       "    }\n",
       "</style>\n",
       "<table border=\"1\" class=\"dataframe\">\n",
       "  <thead>\n",
       "    <tr style=\"text-align: right;\">\n",
       "      <th></th>\n",
       "      <th>imdb_id</th>\n",
       "      <th>budget</th>\n",
       "      <th>revenue</th>\n",
       "      <th>original_title</th>\n",
       "      <th>cast</th>\n",
       "      <th>director</th>\n",
       "      <th>tagline</th>\n",
       "      <th>overview</th>\n",
       "      <th>runtime</th>\n",
       "      <th>genres</th>\n",
       "      <th>production_companies</th>\n",
       "      <th>release_date</th>\n",
       "      <th>vote_average</th>\n",
       "      <th>release_year</th>\n",
       "      <th>profit</th>\n",
       "    </tr>\n",
       "  </thead>\n",
       "  <tbody>\n",
       "    <tr>\n",
       "      <th>239</th>\n",
       "      <td>tt0499549</td>\n",
       "      <td>237000000</td>\n",
       "      <td>2781505847</td>\n",
       "      <td>Avatar</td>\n",
       "      <td>Sam Worthington|Zoe Saldana|Sigourney Weaver|S...</td>\n",
       "      <td>James Cameron</td>\n",
       "      <td>Enter the World of Pandora.</td>\n",
       "      <td>In the 22nd century, a paraplegic Marine is di...</td>\n",
       "      <td>162</td>\n",
       "      <td>Action|Adventure|Fantasy|Science Fiction</td>\n",
       "      <td>Ingenious Film Partners|Twentieth Century Fox ...</td>\n",
       "      <td>12/10/2009</td>\n",
       "      <td>7.1</td>\n",
       "      <td>2009</td>\n",
       "      <td>2544505847</td>\n",
       "    </tr>\n",
       "  </tbody>\n",
       "</table>\n",
       "</div>"
      ],
      "text/plain": [
       "       imdb_id     budget     revenue original_title  \\\n",
       "239  tt0499549  237000000  2781505847         Avatar   \n",
       "\n",
       "                                                  cast       director  \\\n",
       "239  Sam Worthington|Zoe Saldana|Sigourney Weaver|S...  James Cameron   \n",
       "\n",
       "                         tagline  \\\n",
       "239  Enter the World of Pandora.   \n",
       "\n",
       "                                              overview  runtime  \\\n",
       "239  In the 22nd century, a paraplegic Marine is di...      162   \n",
       "\n",
       "                                       genres  \\\n",
       "239  Action|Adventure|Fantasy|Science Fiction   \n",
       "\n",
       "                                  production_companies release_date  \\\n",
       "239  Ingenious Film Partners|Twentieth Century Fox ...   12/10/2009   \n",
       "\n",
       "     vote_average  release_year      profit  \n",
       "239           7.1          2009  2544505847  "
      ]
     },
     "execution_count": 18,
     "metadata": {},
     "output_type": "execute_result"
    }
   ],
   "source": [
    "# лучше код получения столбца profit вынести в Предобработку что в начале\n",
    "data.query(\"profit == profit.max()\")"
   ]
  },
  {
   "cell_type": "markdown",
   "metadata": {
    "colab_type": "text",
    "id": "M99JmIX4Vp-2"
   },
   "source": [
    "# 7. Какой фильм самый убыточный? "
   ]
  },
  {
   "cell_type": "code",
   "execution_count": 19,
   "metadata": {
    "colab": {},
    "colab_type": "code",
    "id": "vHAoEXNTVp-d"
   },
   "outputs": [],
   "source": [
    "# +\n",
    "answers[\"7\"] = \"1245. The Lone Ranger. (tt1210819)\""
   ]
  },
  {
   "cell_type": "code",
   "execution_count": 20,
   "metadata": {
    "colab": {},
    "colab_type": "code",
    "id": "w-D2m4XPVp-3"
   },
   "outputs": [
    {
     "data": {
      "text/html": [
       "<div>\n",
       "<style scoped>\n",
       "    .dataframe tbody tr th:only-of-type {\n",
       "        vertical-align: middle;\n",
       "    }\n",
       "\n",
       "    .dataframe tbody tr th {\n",
       "        vertical-align: top;\n",
       "    }\n",
       "\n",
       "    .dataframe thead th {\n",
       "        text-align: right;\n",
       "    }\n",
       "</style>\n",
       "<table border=\"1\" class=\"dataframe\">\n",
       "  <thead>\n",
       "    <tr style=\"text-align: right;\">\n",
       "      <th></th>\n",
       "      <th>imdb_id</th>\n",
       "      <th>budget</th>\n",
       "      <th>revenue</th>\n",
       "      <th>original_title</th>\n",
       "      <th>cast</th>\n",
       "      <th>director</th>\n",
       "      <th>tagline</th>\n",
       "      <th>overview</th>\n",
       "      <th>runtime</th>\n",
       "      <th>genres</th>\n",
       "      <th>production_companies</th>\n",
       "      <th>release_date</th>\n",
       "      <th>vote_average</th>\n",
       "      <th>release_year</th>\n",
       "      <th>profit</th>\n",
       "    </tr>\n",
       "  </thead>\n",
       "  <tbody>\n",
       "    <tr>\n",
       "      <th>1245</th>\n",
       "      <td>tt1210819</td>\n",
       "      <td>255000000</td>\n",
       "      <td>89289910</td>\n",
       "      <td>The Lone Ranger</td>\n",
       "      <td>Johnny Depp|Armie Hammer|William Fichtner|Hele...</td>\n",
       "      <td>Gore Verbinski</td>\n",
       "      <td>Never Take Off the Mask</td>\n",
       "      <td>The Texas Rangers chase down a gang of outlaws...</td>\n",
       "      <td>149</td>\n",
       "      <td>Action|Adventure|Western</td>\n",
       "      <td>Walt Disney Pictures|Jerry Bruckheimer Films|I...</td>\n",
       "      <td>7/3/2013</td>\n",
       "      <td>6.0</td>\n",
       "      <td>2013</td>\n",
       "      <td>-165710090</td>\n",
       "    </tr>\n",
       "  </tbody>\n",
       "</table>\n",
       "</div>"
      ],
      "text/plain": [
       "        imdb_id     budget   revenue   original_title  \\\n",
       "1245  tt1210819  255000000  89289910  The Lone Ranger   \n",
       "\n",
       "                                                   cast        director  \\\n",
       "1245  Johnny Depp|Armie Hammer|William Fichtner|Hele...  Gore Verbinski   \n",
       "\n",
       "                      tagline  \\\n",
       "1245  Never Take Off the Mask   \n",
       "\n",
       "                                               overview  runtime  \\\n",
       "1245  The Texas Rangers chase down a gang of outlaws...      149   \n",
       "\n",
       "                        genres  \\\n",
       "1245  Action|Adventure|Western   \n",
       "\n",
       "                                   production_companies release_date  \\\n",
       "1245  Walt Disney Pictures|Jerry Bruckheimer Films|I...     7/3/2013   \n",
       "\n",
       "      vote_average  release_year     profit  \n",
       "1245           6.0          2013 -165710090  "
      ]
     },
     "execution_count": 20,
     "metadata": {},
     "output_type": "execute_result"
    }
   ],
   "source": [
    "data.sort_values(\"profit\").head(1)"
   ]
  },
  {
   "cell_type": "markdown",
   "metadata": {
    "colab_type": "text",
    "id": "wEOM5ERVVp-6"
   },
   "source": [
    "# 8. У скольких фильмов из датасета объем сборов оказался выше бюджета?"
   ]
  },
  {
   "cell_type": "code",
   "execution_count": 21,
   "metadata": {
    "colab": {},
    "colab_type": "code",
    "id": "vHAoEXNTVp-d"
   },
   "outputs": [],
   "source": [
    "# +\n",
    "answers[\"8\"] = \"1478\""
   ]
  },
  {
   "cell_type": "code",
   "execution_count": 22,
   "metadata": {
    "colab": {},
    "colab_type": "code",
    "id": "y00_7HD6Vp-7"
   },
   "outputs": [
    {
     "data": {
      "text/plain": [
       "1478"
      ]
     },
     "execution_count": 22,
     "metadata": {},
     "output_type": "execute_result"
    }
   ],
   "source": [
    "len(data.query(\"profit > 0\"))"
   ]
  },
  {
   "cell_type": "markdown",
   "metadata": {
    "colab_type": "text",
    "id": "xhpspA9KVp_A"
   },
   "source": [
    "# 9. Какой фильм оказался самым кассовым в 2008 году?"
   ]
  },
  {
   "cell_type": "code",
   "execution_count": 23,
   "metadata": {
    "colab": {},
    "colab_type": "code",
    "id": "vHAoEXNTVp-d"
   },
   "outputs": [],
   "source": [
    "# +\n",
    "answers[\"9\"] = \"599. The Dark Knight. (tt046569)\""
   ]
  },
  {
   "cell_type": "code",
   "execution_count": 24,
   "metadata": {
    "colab": {},
    "colab_type": "code",
    "id": "MoUyQr9RVp_B"
   },
   "outputs": [
    {
     "data": {
      "text/html": [
       "<div>\n",
       "<style scoped>\n",
       "    .dataframe tbody tr th:only-of-type {\n",
       "        vertical-align: middle;\n",
       "    }\n",
       "\n",
       "    .dataframe tbody tr th {\n",
       "        vertical-align: top;\n",
       "    }\n",
       "\n",
       "    .dataframe thead th {\n",
       "        text-align: right;\n",
       "    }\n",
       "</style>\n",
       "<table border=\"1\" class=\"dataframe\">\n",
       "  <thead>\n",
       "    <tr style=\"text-align: right;\">\n",
       "      <th></th>\n",
       "      <th>imdb_id</th>\n",
       "      <th>budget</th>\n",
       "      <th>revenue</th>\n",
       "      <th>original_title</th>\n",
       "      <th>cast</th>\n",
       "      <th>director</th>\n",
       "      <th>tagline</th>\n",
       "      <th>overview</th>\n",
       "      <th>runtime</th>\n",
       "      <th>genres</th>\n",
       "      <th>production_companies</th>\n",
       "      <th>release_date</th>\n",
       "      <th>vote_average</th>\n",
       "      <th>release_year</th>\n",
       "      <th>profit</th>\n",
       "    </tr>\n",
       "  </thead>\n",
       "  <tbody>\n",
       "    <tr>\n",
       "      <th>599</th>\n",
       "      <td>tt0468569</td>\n",
       "      <td>185000000</td>\n",
       "      <td>1001921825</td>\n",
       "      <td>The Dark Knight</td>\n",
       "      <td>Christian Bale|Michael Caine|Heath Ledger|Aaro...</td>\n",
       "      <td>Christopher Nolan</td>\n",
       "      <td>Why So Serious?</td>\n",
       "      <td>Batman raises the stakes in his war on crime. ...</td>\n",
       "      <td>152</td>\n",
       "      <td>Drama|Action|Crime|Thriller</td>\n",
       "      <td>DC Comics|Legendary Pictures|Warner Bros.|Syncopy</td>\n",
       "      <td>7/16/2008</td>\n",
       "      <td>8.1</td>\n",
       "      <td>2008</td>\n",
       "      <td>816921825</td>\n",
       "    </tr>\n",
       "  </tbody>\n",
       "</table>\n",
       "</div>"
      ],
      "text/plain": [
       "       imdb_id     budget     revenue   original_title  \\\n",
       "599  tt0468569  185000000  1001921825  The Dark Knight   \n",
       "\n",
       "                                                  cast           director  \\\n",
       "599  Christian Bale|Michael Caine|Heath Ledger|Aaro...  Christopher Nolan   \n",
       "\n",
       "             tagline                                           overview  \\\n",
       "599  Why So Serious?  Batman raises the stakes in his war on crime. ...   \n",
       "\n",
       "     runtime                       genres  \\\n",
       "599      152  Drama|Action|Crime|Thriller   \n",
       "\n",
       "                                  production_companies release_date  \\\n",
       "599  DC Comics|Legendary Pictures|Warner Bros.|Syncopy    7/16/2008   \n",
       "\n",
       "     vote_average  release_year     profit  \n",
       "599           8.1          2008  816921825  "
      ]
     },
     "execution_count": 24,
     "metadata": {},
     "output_type": "execute_result"
    }
   ],
   "source": [
    "data[data.release_year == 2008].sort_values('profit', ascending=False).head(1)"
   ]
  },
  {
   "cell_type": "markdown",
   "metadata": {
    "colab_type": "text",
    "id": "Zi4hDKidVp_F"
   },
   "source": [
    "# 10. Самый убыточный фильм за период с 2012 по 2014 г. (включительно)?\n"
   ]
  },
  {
   "cell_type": "code",
   "execution_count": 25,
   "metadata": {
    "colab": {},
    "colab_type": "code",
    "id": "vHAoEXNTVp-d"
   },
   "outputs": [],
   "source": [
    "# +\n",
    "answers[\"10\"] = \"1245. The Lone Ranger. (tt1210819)\""
   ]
  },
  {
   "cell_type": "code",
   "execution_count": 26,
   "metadata": {
    "colab": {},
    "colab_type": "code",
    "id": "XqyRmufJVp_F",
    "scrolled": true
   },
   "outputs": [
    {
     "data": {
      "text/html": [
       "<div>\n",
       "<style scoped>\n",
       "    .dataframe tbody tr th:only-of-type {\n",
       "        vertical-align: middle;\n",
       "    }\n",
       "\n",
       "    .dataframe tbody tr th {\n",
       "        vertical-align: top;\n",
       "    }\n",
       "\n",
       "    .dataframe thead th {\n",
       "        text-align: right;\n",
       "    }\n",
       "</style>\n",
       "<table border=\"1\" class=\"dataframe\">\n",
       "  <thead>\n",
       "    <tr style=\"text-align: right;\">\n",
       "      <th></th>\n",
       "      <th>imdb_id</th>\n",
       "      <th>budget</th>\n",
       "      <th>revenue</th>\n",
       "      <th>original_title</th>\n",
       "      <th>cast</th>\n",
       "      <th>director</th>\n",
       "      <th>tagline</th>\n",
       "      <th>overview</th>\n",
       "      <th>runtime</th>\n",
       "      <th>genres</th>\n",
       "      <th>production_companies</th>\n",
       "      <th>release_date</th>\n",
       "      <th>vote_average</th>\n",
       "      <th>release_year</th>\n",
       "      <th>profit</th>\n",
       "    </tr>\n",
       "  </thead>\n",
       "  <tbody>\n",
       "    <tr>\n",
       "      <th>1245</th>\n",
       "      <td>tt1210819</td>\n",
       "      <td>255000000</td>\n",
       "      <td>89289910</td>\n",
       "      <td>The Lone Ranger</td>\n",
       "      <td>Johnny Depp|Armie Hammer|William Fichtner|Hele...</td>\n",
       "      <td>Gore Verbinski</td>\n",
       "      <td>Never Take Off the Mask</td>\n",
       "      <td>The Texas Rangers chase down a gang of outlaws...</td>\n",
       "      <td>149</td>\n",
       "      <td>Action|Adventure|Western</td>\n",
       "      <td>Walt Disney Pictures|Jerry Bruckheimer Films|I...</td>\n",
       "      <td>7/3/2013</td>\n",
       "      <td>6.0</td>\n",
       "      <td>2013</td>\n",
       "      <td>-165710090</td>\n",
       "    </tr>\n",
       "  </tbody>\n",
       "</table>\n",
       "</div>"
      ],
      "text/plain": [
       "        imdb_id     budget   revenue   original_title  \\\n",
       "1245  tt1210819  255000000  89289910  The Lone Ranger   \n",
       "\n",
       "                                                   cast        director  \\\n",
       "1245  Johnny Depp|Armie Hammer|William Fichtner|Hele...  Gore Verbinski   \n",
       "\n",
       "                      tagline  \\\n",
       "1245  Never Take Off the Mask   \n",
       "\n",
       "                                               overview  runtime  \\\n",
       "1245  The Texas Rangers chase down a gang of outlaws...      149   \n",
       "\n",
       "                        genres  \\\n",
       "1245  Action|Adventure|Western   \n",
       "\n",
       "                                   production_companies release_date  \\\n",
       "1245  Walt Disney Pictures|Jerry Bruckheimer Films|I...     7/3/2013   \n",
       "\n",
       "      vote_average  release_year     profit  \n",
       "1245           6.0          2013 -165710090  "
      ]
     },
     "execution_count": 26,
     "metadata": {},
     "output_type": "execute_result"
    }
   ],
   "source": [
    "data.query(\"2012 <= release_year <= 2014\").sort_values(\"profit\").head(1)"
   ]
  },
  {
   "cell_type": "markdown",
   "metadata": {},
   "source": [
    "ВАРИАНТ 2"
   ]
  },
  {
   "cell_type": "code",
   "execution_count": 27,
   "metadata": {
    "colab": {},
    "colab_type": "code",
    "id": "y00_7HD6Vp-7"
   },
   "outputs": [
    {
     "data": {
      "text/html": [
       "<div>\n",
       "<style scoped>\n",
       "    .dataframe tbody tr th:only-of-type {\n",
       "        vertical-align: middle;\n",
       "    }\n",
       "\n",
       "    .dataframe tbody tr th {\n",
       "        vertical-align: top;\n",
       "    }\n",
       "\n",
       "    .dataframe thead th {\n",
       "        text-align: right;\n",
       "    }\n",
       "</style>\n",
       "<table border=\"1\" class=\"dataframe\">\n",
       "  <thead>\n",
       "    <tr style=\"text-align: right;\">\n",
       "      <th></th>\n",
       "      <th>imdb_id</th>\n",
       "      <th>budget</th>\n",
       "      <th>revenue</th>\n",
       "      <th>original_title</th>\n",
       "      <th>cast</th>\n",
       "      <th>director</th>\n",
       "      <th>tagline</th>\n",
       "      <th>overview</th>\n",
       "      <th>runtime</th>\n",
       "      <th>genres</th>\n",
       "      <th>production_companies</th>\n",
       "      <th>release_date</th>\n",
       "      <th>vote_average</th>\n",
       "      <th>release_year</th>\n",
       "      <th>profit</th>\n",
       "    </tr>\n",
       "  </thead>\n",
       "  <tbody>\n",
       "    <tr>\n",
       "      <th>1245</th>\n",
       "      <td>tt1210819</td>\n",
       "      <td>255000000</td>\n",
       "      <td>89289910</td>\n",
       "      <td>The Lone Ranger</td>\n",
       "      <td>Johnny Depp|Armie Hammer|William Fichtner|Hele...</td>\n",
       "      <td>Gore Verbinski</td>\n",
       "      <td>Never Take Off the Mask</td>\n",
       "      <td>The Texas Rangers chase down a gang of outlaws...</td>\n",
       "      <td>149</td>\n",
       "      <td>Action|Adventure|Western</td>\n",
       "      <td>Walt Disney Pictures|Jerry Bruckheimer Films|I...</td>\n",
       "      <td>7/3/2013</td>\n",
       "      <td>6.0</td>\n",
       "      <td>2013</td>\n",
       "      <td>-165710090</td>\n",
       "    </tr>\n",
       "  </tbody>\n",
       "</table>\n",
       "</div>"
      ],
      "text/plain": [
       "        imdb_id     budget   revenue   original_title  \\\n",
       "1245  tt1210819  255000000  89289910  The Lone Ranger   \n",
       "\n",
       "                                                   cast        director  \\\n",
       "1245  Johnny Depp|Armie Hammer|William Fichtner|Hele...  Gore Verbinski   \n",
       "\n",
       "                      tagline  \\\n",
       "1245  Never Take Off the Mask   \n",
       "\n",
       "                                               overview  runtime  \\\n",
       "1245  The Texas Rangers chase down a gang of outlaws...      149   \n",
       "\n",
       "                        genres  \\\n",
       "1245  Action|Adventure|Western   \n",
       "\n",
       "                                   production_companies release_date  \\\n",
       "1245  Walt Disney Pictures|Jerry Bruckheimer Films|I...     7/3/2013   \n",
       "\n",
       "      vote_average  release_year     profit  \n",
       "1245           6.0          2013 -165710090  "
      ]
     },
     "execution_count": 27,
     "metadata": {},
     "output_type": "execute_result"
    }
   ],
   "source": [
    "temp_data = data.query(\"2012 <= release_year <= 2014\")\n",
    "temp_data[temp_data.profit == temp_data.profit.min()]"
   ]
  },
  {
   "cell_type": "markdown",
   "metadata": {
    "colab_type": "text",
    "id": "EA7Sa9dkVp_I"
   },
   "source": [
    "# 11. Какого жанра фильмов больше всего?"
   ]
  },
  {
   "cell_type": "code",
   "execution_count": 28,
   "metadata": {
    "colab": {},
    "colab_type": "code",
    "id": "vHAoEXNTVp-d"
   },
   "outputs": [],
   "source": [
    "# +\n",
    "answers[\"11\"] = \"Drama\""
   ]
  },
  {
   "cell_type": "code",
   "execution_count": 29,
   "metadata": {
    "colab": {},
    "colab_type": "code",
    "id": "zsJAwJ8QVp_J",
    "scrolled": false
   },
   "outputs": [
    {
     "data": {
      "text/plain": [
       "('Drama', 782)"
      ]
     },
     "execution_count": 29,
     "metadata": {},
     "output_type": "execute_result"
    }
   ],
   "source": [
    "# эту задачу тоже можно решать разными подходами, попробуй реализовать разные варианты\n",
    "# если будешь добавлять функцию - выноси ее в предобработку что в начале\n",
    "list_data = \"|\".join(list(data.genres)).split(\"|\")\n",
    "cnt = Counter(list_data)\n",
    "cnt.most_common()[0]"
   ]
  },
  {
   "cell_type": "markdown",
   "metadata": {
    "colab_type": "text",
    "id": "Ax6g2C8SVp_M"
   },
   "source": [
    "ВАРИАНТ 2"
   ]
  },
  {
   "cell_type": "code",
   "execution_count": 30,
   "metadata": {
    "colab": {},
    "colab_type": "code",
    "id": "otO3SbrSVp_N"
   },
   "outputs": [
    {
     "data": {
      "text/plain": [
       "'Drama'"
      ]
     },
     "execution_count": 30,
     "metadata": {},
     "output_type": "execute_result"
    }
   ],
   "source": [
    "genres_function(data, most_popular=True)"
   ]
  },
  {
   "cell_type": "markdown",
   "metadata": {
    "colab_type": "text",
    "id": "Ax6g2C8SVp_M"
   },
   "source": [
    "ВАРИАНТ 3"
   ]
  },
  {
   "cell_type": "code",
   "execution_count": 31,
   "metadata": {
    "colab_type": "text",
    "id": "Ax6g2C8SVp_M"
   },
   "outputs": [
    {
     "data": {
      "text/plain": [
       "'Drama'"
      ]
     },
     "execution_count": 31,
     "metadata": {},
     "output_type": "execute_result"
    }
   ],
   "source": [
    "all_genres = set(\"|\".join(list(data.genres)).split(\"|\"))\n",
    "temp_max = 0\n",
    "\n",
    "for genre in all_genres:\n",
    "    temp_0 = len(data[data.genres.str.contains(genre)])\n",
    "    if temp_max < temp_0:\n",
    "        temp_max = temp_0\n",
    "        most_common_genre = genre\n",
    "\n",
    "most_common_genre"
   ]
  },
  {
   "cell_type": "markdown",
   "metadata": {
    "colab_type": "text",
    "id": "T9_bPWpkVp_Q"
   },
   "source": [
    "# 12. Фильмы какого жанра чаще всего становятся прибыльными? "
   ]
  },
  {
   "cell_type": "code",
   "execution_count": 32,
   "metadata": {
    "colab": {},
    "colab_type": "code",
    "id": "vHAoEXNTVp-d"
   },
   "outputs": [],
   "source": [
    "# +\n",
    "answers[\"12\"] = \"Drama\""
   ]
  },
  {
   "cell_type": "code",
   "execution_count": 33,
   "metadata": {
    "colab": {},
    "colab_type": "code",
    "id": "Tmt8MaK1Vp_R"
   },
   "outputs": [
    {
     "data": {
      "text/plain": [
       "'Drama'"
      ]
     },
     "execution_count": 33,
     "metadata": {},
     "output_type": "execute_result"
    }
   ],
   "source": [
    "profit_data = data[data.profit > 0]\n",
    "genres_function(profit_data, most_popular=True)"
   ]
  },
  {
   "cell_type": "markdown",
   "metadata": {
    "colab_type": "text",
    "id": "0F23bgsDVp_U"
   },
   "source": [
    "# 13. У какого режиссера самые большие суммарные кассовые сборы?"
   ]
  },
  {
   "cell_type": "code",
   "execution_count": 34,
   "metadata": {
    "colab": {},
    "colab_type": "code",
    "id": "vHAoEXNTVp-d"
   },
   "outputs": [],
   "source": [
    "# +\n",
    "answers[\"13\"] = \"Peter Jacson\""
   ]
  },
  {
   "cell_type": "code",
   "execution_count": 35,
   "metadata": {
    "colab": {},
    "colab_type": "code",
    "id": "K6Z3J8ygVp_X"
   },
   "outputs": [
    {
     "data": {
      "text/plain": [
       "('Peter Jackson', 5202593685)"
      ]
     },
     "execution_count": 35,
     "metadata": {},
     "output_type": "execute_result"
    }
   ],
   "source": [
    "directors = set(\"|\".join(list(data.director)).split(\"|\"))\n",
    "directors_dict = {}\n",
    "\n",
    "for director in directors:\n",
    "    data[data.director.str.contains(director)]\n",
    "    profit_all = list(data[data.director.str.contains(director)].profit)\n",
    "    profit_sum = list(itertools.accumulate(profit_all))[-1]\n",
    "    directors_dict[director] = profit_sum\n",
    "    \n",
    "    \n",
    "cnt_directors = Counter(directors_dict)\n",
    "cnt_directors.most_common()[0]"
   ]
  },
  {
   "cell_type": "markdown",
   "metadata": {
    "colab_type": "text",
    "id": "PsYC9FgRVp_a"
   },
   "source": [
    "# 14. Какой режисер снял больше всего фильмов в стиле Action?"
   ]
  },
  {
   "cell_type": "code",
   "execution_count": 36,
   "metadata": {
    "colab": {},
    "colab_type": "code",
    "id": "vHAoEXNTVp-d"
   },
   "outputs": [],
   "source": [
    "# +\n",
    "answers[\"14\"] = \"Robert Rodriguez\""
   ]
  },
  {
   "cell_type": "code",
   "execution_count": 37,
   "metadata": {
    "colab": {},
    "colab_type": "code",
    "id": "wd2M-wHeVp_b"
   },
   "outputs": [
    {
     "data": {
      "text/plain": [
       "('Robert Rodriguez', 9)"
      ]
     },
     "execution_count": 37,
     "metadata": {},
     "output_type": "execute_result"
    }
   ],
   "source": [
    "directors_dict = {}\n",
    "action_data = data[data.genres.str.contains(\"Action\")]\n",
    "directors_14 = set(\"|\".join(list(action_data.director)).split(\"|\"))\n",
    "\n",
    "for director in directors_14:\n",
    "    count_action = len(action_data[action_data.director.str.contains(director)])\n",
    "    directors_dict[director] = count_action\n",
    "    \n",
    "cnt_directors = Counter(directors_dict)\n",
    "cnt_directors.most_common()[0]"
   ]
  },
  {
   "cell_type": "markdown",
   "metadata": {
    "colab_type": "text",
    "id": "PQ0KciD7Vp_f"
   },
   "source": [
    "# 15. Фильмы с каким актером принесли самые высокие кассовые сборы в 2012 году? "
   ]
  },
  {
   "cell_type": "code",
   "execution_count": 38,
   "metadata": {
    "colab": {},
    "colab_type": "code",
    "id": "vHAoEXNTVp-d"
   },
   "outputs": [],
   "source": [
    "# +\n",
    "answers[\"15\"] = \"Chris Hemsworth\""
   ]
  },
  {
   "cell_type": "code",
   "execution_count": 39,
   "metadata": {
    "colab": {},
    "colab_type": "code",
    "id": "aga62oeKVp_g",
    "scrolled": true
   },
   "outputs": [
    {
     "data": {
      "text/plain": [
       "('Chris Hemsworth', 2027450773)"
      ]
     },
     "execution_count": 39,
     "metadata": {},
     "output_type": "execute_result"
    }
   ],
   "source": [
    "data_year_2012 = data.query(\"release_year == 2012\")\n",
    "actors_2012 = set(\"|\".join(list(data_year_2012.cast)).split(\"|\"))\n",
    "actor_dict = {}\n",
    "\n",
    "for actor in actors_2012:\n",
    "    actor_revenue = list(data_year_2012[data_year_2012.cast.str.contains(actor)].revenue)\n",
    "    revenue_sum = list(itertools.accumulate(actor_revenue))[-1]\n",
    "    actor_dict[actor] = revenue_sum\n",
    "    \n",
    "cnt_actors = Counter(actor_dict)\n",
    "cnt_actors.most_common()[0]"
   ]
  },
  {
   "cell_type": "markdown",
   "metadata": {
    "colab_type": "text",
    "id": "mWHyyL7QVp_j"
   },
   "source": [
    "# 16. Какой актер снялся в большем количестве высокобюджетных фильмов?"
   ]
  },
  {
   "cell_type": "code",
   "execution_count": 40,
   "metadata": {
    "colab": {},
    "colab_type": "code",
    "id": "vHAoEXNTVp-d"
   },
   "outputs": [],
   "source": [
    "# +\n",
    "answers[\"16\"] = \"Matt Damon. 18\""
   ]
  },
  {
   "cell_type": "code",
   "execution_count": 41,
   "metadata": {
    "colab": {},
    "colab_type": "code",
    "id": "qQtmHKTFVp_k"
   },
   "outputs": [
    {
     "data": {
      "text/plain": [
       "('Matt Damon', 18)"
      ]
     },
     "execution_count": 41,
     "metadata": {},
     "output_type": "execute_result"
    }
   ],
   "source": [
    "data_big_budget = data.query(\"budget > budget.mean()\")\n",
    "actors_big_budget = set(\"|\".join(list(data_big_budget.cast)).split(\"|\"))\n",
    "actor_dict = {}\n",
    "\n",
    "for actor in actors_big_budget:\n",
    "    count_films_actor = data_big_budget[data_big_budget.cast.str.contains(actor)]\n",
    "    actor_dict[actor] = len(count_films_actor)\n",
    "     \n",
    "cnt_actors = Counter(actor_dict)\n",
    "cnt_actors.most_common()[0]"
   ]
  },
  {
   "cell_type": "markdown",
   "metadata": {
    "colab_type": "text",
    "id": "NIh6AaW5Vp_n"
   },
   "source": [
    "# 17. В фильмах какого жанра больше всего снимался Nicolas Cage? "
   ]
  },
  {
   "cell_type": "code",
   "execution_count": 42,
   "metadata": {
    "colab": {},
    "colab_type": "code",
    "id": "vHAoEXNTVp-d"
   },
   "outputs": [],
   "source": [
    "# +\n",
    "answers[\"17\"] = \"Action\""
   ]
  },
  {
   "cell_type": "code",
   "execution_count": 43,
   "metadata": {
    "colab": {},
    "colab_type": "code",
    "id": "H74SJDIBVp_n",
    "scrolled": true
   },
   "outputs": [
    {
     "data": {
      "text/plain": [
       "('Action', 17)"
      ]
     },
     "execution_count": 43,
     "metadata": {},
     "output_type": "execute_result"
    }
   ],
   "source": [
    "data_Nic_Cag = data[data.cast.str.contains(\"Nicolas Cage\")]\n",
    "genre_Nic_Cag = set(\"|\".join(data_Nic_Cag.genres).split(\"|\"))\n",
    "dict_Nic_Cag = {}\n",
    "\n",
    "for genre in genre_Nic_Cag:\n",
    "    genre_count = data_Nic_Cag[data_Nic_Cag.genres.str.contains(genre)]\n",
    "    dict_Nic_Cag[genre] = len(genre_count)\n",
    "     \n",
    "cnt_1 = Counter(dict_Nic_Cag)\n",
    "cnt_1.most_common()[0]"
   ]
  },
  {
   "cell_type": "markdown",
   "metadata": {
    "colab_type": "text",
    "id": "RqOmPRfWVp_q"
   },
   "source": [
    "# 18. Самый убыточный фильм от Paramount Pictures"
   ]
  },
  {
   "cell_type": "code",
   "execution_count": 44,
   "metadata": {
    "colab": {},
    "colab_type": "code",
    "id": "vHAoEXNTVp-d"
   },
   "outputs": [],
   "source": [
    "# +\n",
    "answers[\"18\"] = \"925. K-19:The Widowmaker. (tt0267626)\""
   ]
  },
  {
   "cell_type": "code",
   "execution_count": 45,
   "metadata": {
    "colab": {},
    "colab_type": "code",
    "id": "9E_B0Y96Vp_r",
    "scrolled": true
   },
   "outputs": [
    {
     "data": {
      "text/html": [
       "<div>\n",
       "<style scoped>\n",
       "    .dataframe tbody tr th:only-of-type {\n",
       "        vertical-align: middle;\n",
       "    }\n",
       "\n",
       "    .dataframe tbody tr th {\n",
       "        vertical-align: top;\n",
       "    }\n",
       "\n",
       "    .dataframe thead th {\n",
       "        text-align: right;\n",
       "    }\n",
       "</style>\n",
       "<table border=\"1\" class=\"dataframe\">\n",
       "  <thead>\n",
       "    <tr style=\"text-align: right;\">\n",
       "      <th></th>\n",
       "      <th>imdb_id</th>\n",
       "      <th>budget</th>\n",
       "      <th>revenue</th>\n",
       "      <th>original_title</th>\n",
       "      <th>cast</th>\n",
       "      <th>director</th>\n",
       "      <th>tagline</th>\n",
       "      <th>overview</th>\n",
       "      <th>runtime</th>\n",
       "      <th>genres</th>\n",
       "      <th>production_companies</th>\n",
       "      <th>release_date</th>\n",
       "      <th>vote_average</th>\n",
       "      <th>release_year</th>\n",
       "      <th>profit</th>\n",
       "    </tr>\n",
       "  </thead>\n",
       "  <tbody>\n",
       "    <tr>\n",
       "      <th>925</th>\n",
       "      <td>tt0267626</td>\n",
       "      <td>100000000</td>\n",
       "      <td>35168966</td>\n",
       "      <td>K-19: The Widowmaker</td>\n",
       "      <td>Harrison Ford|Liam Neeson|Peter Sarsgaard|Joss...</td>\n",
       "      <td>Kathryn Bigelow</td>\n",
       "      <td>Fate has found its hero.</td>\n",
       "      <td>When Russia's first nuclear submarine malfunct...</td>\n",
       "      <td>138</td>\n",
       "      <td>Thriller|Drama|History</td>\n",
       "      <td>Paramount Pictures|Intermedia Films|National G...</td>\n",
       "      <td>7/19/2002</td>\n",
       "      <td>6.0</td>\n",
       "      <td>2002</td>\n",
       "      <td>-64831034</td>\n",
       "    </tr>\n",
       "  </tbody>\n",
       "</table>\n",
       "</div>"
      ],
      "text/plain": [
       "       imdb_id     budget   revenue        original_title  \\\n",
       "925  tt0267626  100000000  35168966  K-19: The Widowmaker   \n",
       "\n",
       "                                                  cast         director  \\\n",
       "925  Harrison Ford|Liam Neeson|Peter Sarsgaard|Joss...  Kathryn Bigelow   \n",
       "\n",
       "                      tagline  \\\n",
       "925  Fate has found its hero.   \n",
       "\n",
       "                                              overview  runtime  \\\n",
       "925  When Russia's first nuclear submarine malfunct...      138   \n",
       "\n",
       "                     genres  \\\n",
       "925  Thriller|Drama|History   \n",
       "\n",
       "                                  production_companies release_date  \\\n",
       "925  Paramount Pictures|Intermedia Films|National G...    7/19/2002   \n",
       "\n",
       "     vote_average  release_year    profit  \n",
       "925           6.0          2002 -64831034  "
      ]
     },
     "execution_count": 45,
     "metadata": {},
     "output_type": "execute_result"
    }
   ],
   "source": [
    "data_18 = data[data.production_companies.str.contains(\"Paramount Pictures\")]\n",
    "data_18.sort_values(\"profit\").head(1)"
   ]
  },
  {
   "cell_type": "markdown",
   "metadata": {
    "colab_type": "text",
    "id": "vS8Ur6ddVp_u"
   },
   "source": [
    "# 19. Какой год стал самым успешным по суммарным кассовым сборам?"
   ]
  },
  {
   "cell_type": "code",
   "execution_count": 46,
   "metadata": {
    "colab": {},
    "colab_type": "code",
    "id": "vHAoEXNTVp-d"
   },
   "outputs": [],
   "source": [
    "# +\n",
    "answers[\"19\"] = \"2015. 25449202382\""
   ]
  },
  {
   "cell_type": "code",
   "execution_count": 47,
   "metadata": {
    "colab": {},
    "colab_type": "code",
    "id": "Dnbt4GdIVp_v"
   },
   "outputs": [
    {
     "data": {
      "text/plain": [
       "(2015, 25449202382)"
      ]
     },
     "execution_count": 47,
     "metadata": {},
     "output_type": "execute_result"
    }
   ],
   "source": [
    "release_year = set(data.release_year)\n",
    "release_year_dict = {}\n",
    "\n",
    "for year in release_year:\n",
    "    all_revenue = data[data.release_year == year].revenue\n",
    "    sum_revenue = list(itertools.accumulate(all_revenue))[-1]\n",
    "    release_year_dict[year] = sum_revenue\n",
    "    \n",
    "cnt_1 = Counter(release_year_dict)\n",
    "cnt_1.most_common()[0]"
   ]
  },
  {
   "cell_type": "markdown",
   "metadata": {
    "colab_type": "text",
    "id": "JAzJh4QAVp_z"
   },
   "source": [
    "# 20. Какой самый прибыльный год для студии Warner Bros?"
   ]
  },
  {
   "cell_type": "code",
   "execution_count": 48,
   "metadata": {
    "colab": {},
    "colab_type": "code",
    "id": "vHAoEXNTVp-d"
   },
   "outputs": [],
   "source": [
    "# +\n",
    "answers[\"20\"] = \"2014. 3243064519\""
   ]
  },
  {
   "cell_type": "code",
   "execution_count": 50,
   "metadata": {
    "colab": {},
    "colab_type": "code",
    "id": "wgVu02DEVp_0"
   },
   "outputs": [
    {
     "data": {
      "text/plain": [
       "(2014, 3243064519)"
      ]
     },
     "execution_count": 50,
     "metadata": {},
     "output_type": "execute_result"
    }
   ],
   "source": [
    "data_WB = data[data.production_companies.str.contains(\"Warner Bros\")]\n",
    "data_20_dict = {}\n",
    "\n",
    "for year in release_year:\n",
    "    all_revenue = data_WB[data_WB.release_year == year].revenue\n",
    "    sum_revenue = list(itertools.accumulate(all_revenue))[-1]\n",
    "    data_20_dict[year] = sum_revenue\n",
    "    \n",
    "cnt_1 = Counter(data_20_dict)\n",
    "cnt_1.most_common()[0]"
   ]
  },
  {
   "cell_type": "markdown",
   "metadata": {
    "colab_type": "text",
    "id": "8Im1S2HRVp_4"
   },
   "source": [
    "# 21. В каком месяце за все годы суммарно вышло больше всего фильмов?"
   ]
  },
  {
   "cell_type": "code",
   "execution_count": 49,
   "metadata": {
    "colab": {},
    "colab_type": "code",
    "id": "vHAoEXNTVp-d"
   },
   "outputs": [],
   "source": [
    "# +\n",
    "answers[\"21\"] = \"9. Сентябрь\""
   ]
  },
  {
   "cell_type": "code",
   "execution_count": 51,
   "metadata": {
    "colab": {},
    "colab_type": "code",
    "id": "lev6TH7gVp_4"
   },
   "outputs": [
    {
     "data": {
      "text/plain": [
       "(9, 227)"
      ]
     },
     "execution_count": 51,
     "metadata": {},
     "output_type": "execute_result"
    }
   ],
   "source": [
    "data_month_dict = {}\n",
    "\n",
    "for month in range(1, 13):\n",
    "    films_month = data[data.release_date.str.match(str(month)+\"/\")]\n",
    "    data_month_dict[month] = len(films_month)\n",
    "      \n",
    "cnt_1 = Counter(data_month_dict)\n",
    "cnt_1.most_common()[0]"
   ]
  },
  {
   "cell_type": "markdown",
   "metadata": {
    "colab_type": "text",
    "id": "uAJsZ_NeVp_7"
   },
   "source": [
    "# 22. Сколько суммарно вышло фильмов летом? (за июнь, июль, август)"
   ]
  },
  {
   "cell_type": "code",
   "execution_count": 52,
   "metadata": {
    "colab": {},
    "colab_type": "code",
    "id": "vHAoEXNTVp-d"
   },
   "outputs": [],
   "source": [
    "# +\n",
    "answers[\"22\"] = \"450\""
   ]
  },
  {
   "cell_type": "code",
   "execution_count": 53,
   "metadata": {
    "colab": {},
    "colab_type": "code",
    "id": "Aa-hEREoVp_8"
   },
   "outputs": [
    {
     "data": {
      "text/plain": [
       "450"
      ]
     },
     "execution_count": 53,
     "metadata": {},
     "output_type": "execute_result"
    }
   ],
   "source": [
    "data_summer_dict = {}\n",
    "\n",
    "for month in range(6, 9):\n",
    "    films_summer = data[data.release_date.str.match(str(month))]\n",
    "    data_summer_dict[month] = len(films_summer)\n",
    "\n",
    "sum_summer_films = list(itertools.accumulate(data_summer_dict.values()))\n",
    "sum_summer_films[-1]"
   ]
  },
  {
   "cell_type": "markdown",
   "metadata": {
    "colab_type": "text",
    "id": "G94ppOY1VqAA"
   },
   "source": [
    "# 23. Для какого режиссера зима – самое продуктивное время года? "
   ]
  },
  {
   "cell_type": "code",
   "execution_count": 54,
   "metadata": {
    "colab": {},
    "colab_type": "code",
    "id": "vHAoEXNTVp-d"
   },
   "outputs": [],
   "source": [
    "# +\n",
    "answers[\"23\"] = \"Peter Jackson. 7\""
   ]
  },
  {
   "cell_type": "code",
   "execution_count": 55,
   "metadata": {
    "colab": {},
    "colab_type": "code",
    "id": "RhNTsamuVqAB"
   },
   "outputs": [
    {
     "data": {
      "text/plain": [
       "('Peter Jackson', 7)"
      ]
     },
     "execution_count": 55,
     "metadata": {},
     "output_type": "execute_result"
    }
   ],
   "source": [
    "dict_director_winter = {}\n",
    "data_winter_director = pd.DataFrame(columns = data.columns)\n",
    "\n",
    "for month in [12, 1, 3]:\n",
    "    data_winter_t = data[data.release_date.str.match(str(month)+\"/\")]\n",
    "    data_winter_director = pd.concat([data_winter_director, data_winter_t])\n",
    "\n",
    "director_winter = set(\"|\".join(list(data_winter_director.director)).split(\"|\"))\n",
    "for director in director_winter:\n",
    "    films_count = data_winter_director[data_winter_director.director.str.contains(director)]\n",
    "    dict_director_winter[director] = len(films_count)\n",
    "    \n",
    "cnt_directors = Counter(dict_director_winter)\n",
    "cnt_directors.most_common()[0]"
   ]
  },
  {
   "cell_type": "markdown",
   "metadata": {
    "colab_type": "text",
    "id": "RBo0JVjVVqAF"
   },
   "source": [
    "# 24. Какая студия дает самые длинные названия своим фильмам по количеству символов?"
   ]
  },
  {
   "cell_type": "code",
   "execution_count": 56,
   "metadata": {
    "colab": {},
    "colab_type": "code",
    "id": "vHAoEXNTVp-d"
   },
   "outputs": [],
   "source": [
    "# +\n",
    "answers[\"24\"] = \"'Four By Two Productions'\""
   ]
  },
  {
   "cell_type": "code",
   "execution_count": 60,
   "metadata": {
    "colab": {},
    "colab_type": "code",
    "id": "QRGS8L0iVqAG"
   },
   "outputs": [
    {
     "name": "stdout",
     "output_type": "stream",
     "text": [
      "('Four By Two Productions', 83.0)\n",
      "Студии которые не были учтены dict_keys(['Munich Film Partners & Company (MFP) MI2 Productions', 'Parkes+MacDonald Image Nation', 'Canal+Polska', 'Munich Film Partners & Company (MFP) ROE Production', 'Munich Film Partners & Company (MFP) GHS Productions', 'Canal+ EspaÃ±a'])\n"
     ]
    }
   ],
   "source": [
    "data_title_dict = {}\n",
    "data_company_error = {}\n",
    "companies = set(\"|\".join(data.production_companies).split(\"|\"))\n",
    "\n",
    "for company in companies:\n",
    "# Компании у которых в названии есть '()' не учитываются методом contains \n",
    "    test_err_trigger = company[-1]\n",
    "    if test_err_trigger == \")\":\n",
    "        test_err_trigger = company.find(\"(\")\n",
    "        data_company = data[data.production_companies.str.contains(company[:test_err_trigger])]\n",
    "    else:\n",
    "        data_company = data[data.production_companies.str.contains(company)]\n",
    "        \n",
    "    title_lenght = len(str(\"\".join(list(data_company.original_title))))\n",
    "    title_count = len(data_company)\n",
    "    if title_count != 0:\n",
    "        data_title_dict[company] = title_lenght / title_count\n",
    "    else:\n",
    "        data_company_error[company] = 1\n",
    "             \n",
    "cnt_title = Counter(data_title_dict)\n",
    "print(cnt_title.most_common()[0])\n",
    "print(\"Студии которые не были учтены\", data_company_error.keys())"
   ]
  },
  {
   "cell_type": "markdown",
   "metadata": {
    "colab_type": "text",
    "id": "9G0hbvR7VqAK"
   },
   "source": [
    "# 25. Описание фильмов какой студии в среднем самые длинные по количеству слов?"
   ]
  },
  {
   "cell_type": "code",
   "execution_count": 61,
   "metadata": {
    "colab": {},
    "colab_type": "code",
    "id": "vHAoEXNTVp-d"
   },
   "outputs": [],
   "source": [
    "# +\n",
    "answers[\"25\"] = \"Midnight Picture Show\""
   ]
  },
  {
   "cell_type": "code",
   "execution_count": 63,
   "metadata": {
    "colab": {},
    "colab_type": "code",
    "id": "Ge2GsLNxVqAK"
   },
   "outputs": [
    {
     "name": "stdout",
     "output_type": "stream",
     "text": [
      "('Midnight Picture Show', 1000.0)\n",
      "Студии которые не были учтены: dict_keys(['Munich Film Partners & Company (MFP) MI2 Productions', 'Parkes+MacDonald Image Nation', 'Canal+Polska', 'Munich Film Partners & Company (MFP) ROE Production', 'Munich Film Partners & Company (MFP) GHS Productions', 'Canal+ EspaÃ±a'])\n"
     ]
    }
   ],
   "source": [
    "data_overview_dict = {}\n",
    "companies = set(\"|\".join(data.production_companies).split(\"|\"))\n",
    "\n",
    "for company in companies:\n",
    "    if company not in data_company_error:\n",
    "        test_err_trigger = company[len(company)-1]\n",
    "        if test_err_trigger == \")\":\n",
    "            test_err_trigger = company.find(\"(\")\n",
    "            data_overview = data[data.production_companies.str.contains(company[:test_err_trigger])].overview\n",
    "        else:\n",
    "            data_overview = data[data.production_companies.str.contains(company)].overview\n",
    "\n",
    "        overview_lenght = len(str(\"\".join(list(data_overview))))\n",
    "        overview_count = len(data_overview)\n",
    "        data_overview_dict[company] = overview_lenght/overview_count\n",
    "\n",
    "cnt_overview = Counter(data_overview_dict)\n",
    "print(cnt_overview.most_common()[0])\n",
    "print(\"Студии которые не были учтены:\", data_company_error.keys())"
   ]
  },
  {
   "cell_type": "markdown",
   "metadata": {
    "colab_type": "text",
    "id": "FJ1AFt90VqAP"
   },
   "source": [
    "# 26. Какие фильмы входят в 1 процент лучших по рейтингу? \n",
    "по vote_average"
   ]
  },
  {
   "cell_type": "code",
   "execution_count": 64,
   "metadata": {
    "colab": {},
    "colab_type": "code",
    "id": "vHAoEXNTVp-d"
   },
   "outputs": [],
   "source": [
    "# +\n",
    "answers[\"26\"] = \"\"\"'Inside Out',\n",
    "                 'Inside Out',\n",
    "                 'Spotlight',\n",
    "                 'Room',\n",
    "                 'Interstellar',\n",
    "                 'Guardians of the Galaxy',\n",
    "                 'Big Hero 6',\n",
    "                 'The Imitation Game',\n",
    "                 'Gone Girl',\n",
    "                 'The Grand Budapest Hotel',\n",
    "                 'The Theory of Everything',\n",
    "                 'The Fault in Our Stars',\n",
    "                 'Mr. Nobody',\n",
    "                 '3 Idiots',\n",
    "                 'Inception',\n",
    "                 'The Lord of the Rings: The Fellowship of the Ring',\n",
    "                 'The Dark Knight',\n",
    "                 'The Lord of the Rings: The Two Towers',\n",
    "                 'The Pianist',\n",
    "                 'The Lord of the Rings: The Return of the King',\n",
    "                 'The Wolf of Wall Street',\n",
    "                 'Her',\n",
    "                 '12 Years a Slave',\n",
    "                 'Prisoners',\n",
    "                 'Dallas Buyers Club',\n",
    "                 'The Prestige',\n",
    "                 'Eternal Sunshine of the Spotless Mind',\n",
    "                 'There Will Be Blood','Inside Out',\n",
    "                 'Memento'\n",
    "\"\"\""
   ]
  },
  {
   "cell_type": "code",
   "execution_count": 65,
   "metadata": {
    "colab": {},
    "colab_type": "code",
    "id": "8qmJVq4CVqAQ",
    "scrolled": false
   },
   "outputs": [
    {
     "data": {
      "text/plain": [
       "['Inside Out',\n",
       " 'Spotlight',\n",
       " 'Room',\n",
       " 'Interstellar',\n",
       " 'Guardians of the Galaxy',\n",
       " 'Big Hero 6',\n",
       " 'The Imitation Game',\n",
       " 'Gone Girl',\n",
       " 'The Grand Budapest Hotel',\n",
       " 'The Theory of Everything',\n",
       " 'The Fault in Our Stars',\n",
       " 'Mr. Nobody',\n",
       " '3 Idiots',\n",
       " 'Inception',\n",
       " 'The Lord of the Rings: The Fellowship of the Ring',\n",
       " 'The Dark Knight',\n",
       " 'The Lord of the Rings: The Two Towers',\n",
       " 'The Pianist',\n",
       " 'The Lord of the Rings: The Return of the King',\n",
       " 'The Wolf of Wall Street',\n",
       " 'Her',\n",
       " '12 Years a Slave',\n",
       " 'Prisoners',\n",
       " 'Dallas Buyers Club',\n",
       " 'The Prestige',\n",
       " 'Eternal Sunshine of the Spotless Mind',\n",
       " 'There Will Be Blood',\n",
       " 'Memento']"
      ]
     },
     "execution_count": 65,
     "metadata": {},
     "output_type": "execute_result"
    }
   ],
   "source": [
    "# +\n",
    "s = data[\"vote_average\"].value_counts(bins=15, normalize=True)\n",
    "list(data.loc[\n",
    "    (data.vote_average>s.index[10].left) &\n",
    "    (data.vote_average<=s.index[10].right)\n",
    "].original_title)"
   ]
  },
  {
   "cell_type": "markdown",
   "metadata": {
    "colab_type": "text",
    "id": "MdXsUXbCVqAV"
   },
   "source": [
    "# 27. Какие актеры чаще всего снимаются в одном фильме вместе?\n"
   ]
  },
  {
   "cell_type": "code",
   "execution_count": 66,
   "metadata": {
    "colab": {},
    "colab_type": "code",
    "id": "vHAoEXNTVp-d"
   },
   "outputs": [],
   "source": [
    "# +\n",
    "answers[\"27\"] = \"Rupert Grint & Daniel Radcliffe, 8\""
   ]
  },
  {
   "cell_type": "code",
   "execution_count": 67,
   "metadata": {
    "colab_type": "text",
    "id": "4ymnxEVoVqAW"
   },
   "outputs": [
    {
     "data": {
      "text/plain": [
       "[('Daniel Radcliffe & Rupert Grint', 8),\n",
       " ('Daniel Radcliffe & Emma Watson', 8),\n",
       " ('Emma Watson & Daniel Radcliffe', 8),\n",
       " ('Emma Watson & Rupert Grint', 8),\n",
       " ('Rupert Grint & Daniel Radcliffe', 8),\n",
       " ('Rupert Grint & Emma Watson', 8),\n",
       " ('Helena Bonham Carter & Johnny Depp', 6),\n",
       " ('Johnny Depp & Helena Bonham Carter', 6),\n",
       " ('Ben Stiller & Owen Wilson', 6),\n",
       " ('Owen Wilson & Ben Stiller', 6),\n",
       " ('Vin Diesel & Paul Walker', 5),\n",
       " ('Ian McKellen & Hugh Jackman', 5),\n",
       " ('Adam Sandler & Kevin James', 5),\n",
       " ('Kristen Stewart & Robert Pattinson', 5),\n",
       " ('Kristen Stewart & Taylor Lautner', 5),\n",
       " ('Robert Pattinson & Kristen Stewart', 5),\n",
       " ('Robert Pattinson & Taylor Lautner', 5),\n",
       " ('Kevin James & Adam Sandler', 5),\n",
       " ('Paul Walker & Vin Diesel', 5),\n",
       " ('Mario & Marion Cotillard', 5),\n",
       " ('Hugh Jackman & Ian McKellen', 5),\n",
       " ('Taylor Lautner & Kristen Stewart', 5),\n",
       " ('Taylor Lautner & Robert Pattinson', 5),\n",
       " ('Patrick Stewart & Hugh Jackman', 4),\n",
       " ('Patrick Stewart & Ian McKellen', 4),\n",
       " ('Julia Roberts & Brad Pitt', 4),\n",
       " ('Vin Diesel & Jordana Brewster', 4),\n",
       " ('Halle Berry & Hugh Jackman', 4),\n",
       " ('Mike Myers & Cameron Diaz', 4),\n",
       " ('Mike Myers & Eddie Murphy', 4),\n",
       " ('Jennifer Lawrence & Josh Hutcherson', 4),\n",
       " ('Jennifer Lawrence & Liam Hemsworth', 4),\n",
       " ('Jennifer Lawrence & Woody Harrelson', 4),\n",
       " ('George Clooney & Matt Damon', 4),\n",
       " ('George Clooney & Brad Pitt', 4),\n",
       " ('Ian McKellen & Patrick Stewart', 4),\n",
       " ('Chris Evans & Scarlett Johansson', 4),\n",
       " ('Jordana Brewster & Vin Diesel', 4),\n",
       " ('Jordana Brewster & Paul Walker', 4),\n",
       " ('Christian Bale & Michael Caine', 4),\n",
       " ('Paul Rudd & Steve Carell', 4),\n",
       " ('Bradley Cooper & Justin Bartha', 4),\n",
       " ('Josh Hutcherson & Jennifer Lawrence', 4),\n",
       " ('Josh Hutcherson & Woody Harrelson', 4),\n",
       " ('Josh Hutcherson & Liam Hemsworth', 4),\n",
       " ('Kristen Stewart & Peter Facinelli', 4),\n",
       " ('Betsy Russell & Tobin Bell', 4),\n",
       " ('Betsy Russell & Costas Mandylor', 4),\n",
       " ('Robert Pattinson & Peter Facinelli', 4),\n",
       " ('Justin Bartha & Bradley Cooper', 4),\n",
       " ('Paul Walker & Jordana Brewster', 4),\n",
       " ('Peter Facinelli & Kristen Stewart', 4),\n",
       " ('Peter Facinelli & Robert Pattinson', 4),\n",
       " ('Peter Facinelli & Taylor Lautner', 4),\n",
       " ('Woody Harrelson & Jennifer Lawrence', 4),\n",
       " ('Woody Harrelson & Josh Hutcherson', 4),\n",
       " ('Woody Harrelson & Liam Hemsworth', 4),\n",
       " ('Scarlett Johansson & Chris Evans', 4),\n",
       " ('Matt Damon & George Clooney', 4),\n",
       " ('Pink & Jada Pinkett Smith', 4),\n",
       " ('Hugh Jackman & Patrick Stewart', 4),\n",
       " ('Hugh Jackman & Halle Berry', 4),\n",
       " ('Liam Hemsworth & Josh Hutcherson', 4),\n",
       " ('Liam Hemsworth & Jennifer Lawrence', 4),\n",
       " ('Liam Hemsworth & Woody Harrelson', 4),\n",
       " ('Steve Carell & Paul Rudd', 4),\n",
       " ('Michael Caine & Christian Bale', 4),\n",
       " ('Tobin Bell & Costas Mandylor', 4),\n",
       " ('Tobin Bell & Betsy Russell', 4),\n",
       " ('Eddie Murphy & Mike Myers', 4),\n",
       " ('Eddie Murphy & Cameron Diaz', 4),\n",
       " ('Taylor Lautner & Peter Facinelli', 4),\n",
       " ('Cameron Diaz & Mike Myers', 4),\n",
       " ('Cameron Diaz & Eddie Murphy', 4),\n",
       " ('Costas Mandylor & Tobin Bell', 4),\n",
       " ('Costas Mandylor & Betsy Russell', 4),\n",
       " ('Brad Pitt & Julia Roberts', 4),\n",
       " ('Brad Pitt & George Clooney', 4),\n",
       " ('Jason Bateman & Jennifer Aniston', 3),\n",
       " ('Samuel L. Jackson & Hayden Christensen', 3),\n",
       " ('Justin Long & Jason Lee', 3),\n",
       " ('Justin Long & David Cross', 3),\n",
       " ('Robert Downey Jr. & Scarlett Johansson', 3),\n",
       " ('Robert Downey Jr. & Gwyneth Paltrow', 3),\n",
       " ('Robert Downey Jr. & Mark Ruffalo', 3),\n",
       " ('Liv Tyler & Elijah Wood', 3),\n",
       " ('Liv Tyler & Orlando Bloom', 3),\n",
       " ('Liv Tyler & Ian McKellen', 3),\n",
       " ('Liv Tyler & Viggo Mortensen', 3),\n",
       " ('Jason Lee & Justin Long', 3),\n",
       " ('Jason Lee & David Cross', 3),\n",
       " ('Kimberly Elise & Denzel Washington', 3),\n",
       " ('Viggo Mortensen & Orlando Bloom', 3),\n",
       " ('Viggo Mortensen & Ian McKellen', 3),\n",
       " ('Viggo Mortensen & Elijah Wood', 3),\n",
       " ('Viggo Mortensen & Liv Tyler', 3),\n",
       " ('Thomas Ian Nicholas & Seann William Scott', 3),\n",
       " ('Thomas Ian Nicholas & Jason Biggs', 3),\n",
       " ('Danny McBride & James Franco', 3),\n",
       " ('Judi Dench & Daniel Craig', 3),\n",
       " ('Patrick Stewart & Famke Janssen', 3),\n",
       " ('Patrick Stewart & Halle Berry', 3),\n",
       " ('Jack Black & Angelina Jolie', 3),\n",
       " ('Zach Galifianakis & Bradley Cooper', 3),\n",
       " ('Zach Galifianakis & Ed Helms', 3),\n",
       " ('Zach Galifianakis & Justin Bartha', 3),\n",
       " ('Daryl Sabara & Antonio Banderas', 3),\n",
       " ('Daryl Sabara & Carla Gugino', 3),\n",
       " ('Daryl Sabara & Alexa PenaVega', 3),\n",
       " ('Daniel Radcliffe & Ralph Fiennes', 3),\n",
       " ('Maggie Grace & Liam Neeson', 3),\n",
       " ('Maggie Grace & Famke Janssen', 3),\n",
       " ('Jason Segel & Emily Blunt', 3),\n",
       " ('Jason Segel & Paul Rudd', 3),\n",
       " ('Tim Allen & Spencer Breslin', 3),\n",
       " ('Seann William Scott & Thomas Ian Nicholas', 3),\n",
       " ('Seann William Scott & Jason Biggs', 3),\n",
       " ('Spencer Breslin & Tim Allen', 3),\n",
       " ('Famke Janssen & Patrick Stewart', 3),\n",
       " ('Famke Janssen & Hugh Jackman', 3),\n",
       " ('Famke Janssen & Liam Neeson', 3),\n",
       " ('Famke Janssen & Maggie Grace', 3),\n",
       " ('Famke Janssen & Halle Berry', 3),\n",
       " ('Famke Janssen & Ian McKellen', 3),\n",
       " ('Ray Romano & Denis Leary', 3),\n",
       " ('Ray Romano & John Leguizamo', 3),\n",
       " ('Vin Diesel & Michelle Rodriguez', 3),\n",
       " ('Vin Diesel & Dwayne Johnson', 3),\n",
       " ('Ed Helms & Bradley Cooper', 3),\n",
       " ('Ed Helms & Justin Bartha', 3),\n",
       " ('Ed Helms & Zach Galifianakis', 3),\n",
       " ('Orlando Bloom & Johnny Depp', 3),\n",
       " ('Orlando Bloom & Elijah Wood', 3),\n",
       " ('Orlando Bloom & Liv Tyler', 3),\n",
       " ('Orlando Bloom & Keira Knightley', 3),\n",
       " ('Orlando Bloom & Viggo Mortensen', 3),\n",
       " ('Orlando Bloom & Ian McKellen', 3),\n",
       " ('Steve Buscemi & Adam Sandler', 3),\n",
       " ('Jonah Hill & Seth Rogen', 3),\n",
       " ('Jonah Hill & Jay Baruchel', 3),\n",
       " ('Halle Berry & Patrick Stewart', 3),\n",
       " ('Halle Berry & Famke Janssen', 3),\n",
       " ('Halle Berry & Ian McKellen', 3),\n",
       " ('Steve Zahn & Zachary Gordon', 3),\n",
       " ('Steve Zahn & Rachael Harris', 3),\n",
       " ('Mike Myers & Julie Andrews', 3),\n",
       " ('Mike Myers & Antonio Banderas', 3),\n",
       " ('Paul Bettany & Johnny Depp', 3),\n",
       " ('Gary Oldman & Michael Caine', 3),\n",
       " ('Gary Oldman & Christian Bale', 3),\n",
       " ('Keira Knightley & Johnny Depp', 3),\n",
       " ('Keira Knightley & Orlando Bloom', 3),\n",
       " ('Amy Adams & Philip Seymour Hoffman', 3),\n",
       " ('Jennifer Lawrence & Elizabeth Banks', 3),\n",
       " ('Mike Epps & Ice Cube', 3),\n",
       " ('Richard Armitage & Martin Freeman', 3),\n",
       " ('Richard Armitage & Ian McKellen', 3),\n",
       " ('Liam Neeson & Maggie Grace', 3),\n",
       " ('Liam Neeson & Famke Janssen', 3),\n",
       " ('FranÃ§ois BerlÃ©and & Jason Statham', 3),\n",
       " ('Bill Nighy & Johnny Depp', 3),\n",
       " ('Marlon Wayans & Shawn Wayans', 3),\n",
       " ('Denis Leary & Ray Romano', 3),\n",
       " ('Denis Leary & John Leguizamo', 3),\n",
       " ('Mark Ruffalo & Robert Downey Jr.', 3),\n",
       " ('Ian McKellen & Martin Freeman', 3),\n",
       " ('Ian McKellen & Richard Armitage', 3),\n",
       " ('Ian McKellen & Orlando Bloom', 3),\n",
       " ('Ian McKellen & Famke Janssen', 3),\n",
       " ('Ian McKellen & Elijah Wood', 3),\n",
       " ('Ian McKellen & Liv Tyler', 3),\n",
       " ('Ian McKellen & Halle Berry', 3),\n",
       " ('Ian McKellen & Viggo Mortensen', 3),\n",
       " ('Mark Wahlberg & Giovanni Ribisi', 3),\n",
       " ('Jude Law & Kate Winslet', 3),\n",
       " ('Adam Sandler & Steve Buscemi', 3),\n",
       " ('Skandar Keynes & Georgie Henley', 3),\n",
       " ('Christian Bale & Gary Oldman', 3),\n",
       " ('Paul Rudd & Jason Segel', 3),\n",
       " ('Paul Rudd & Seth Rogen', 3),\n",
       " ('Morgan Freeman & Ashley Judd', 3),\n",
       " ('Bradley Cooper & Ken Jeong', 3),\n",
       " ('Bradley Cooper & Ed Helms', 3),\n",
       " ('Bradley Cooper & Zach Galifianakis', 3),\n",
       " ('Robin Williams & Ben Stiller', 3),\n",
       " ('Josh Hutcherson & Elizabeth Banks', 3),\n",
       " ('Ice Cube & Mike Epps', 3),\n",
       " ('David Cross & Justin Long', 3),\n",
       " ('David Cross & Jason Lee', 3),\n",
       " ('Neil Patrick Harris & Kal Penn', 3),\n",
       " ('Neil Patrick Harris & John Cho', 3),\n",
       " ('Tom Holland & Tom Hollander', 3),\n",
       " ('Kristen Stewart & Ashley Greene', 3),\n",
       " ('Russell Crowe & Jennifer Connelly', 3),\n",
       " ('Sylvester Stallone & Arnold Schwarzenegger', 3),\n",
       " ('Sylvester Stallone & Jason Statham', 3),\n",
       " ('Jennifer Aniston & Jason Bateman', 3),\n",
       " ('Gwyneth Paltrow & Robert Downey Jr.', 3),\n",
       " ('Kirsten Dunst & James Franco', 3),\n",
       " ('Kirsten Dunst & Tobey Maguire', 3),\n",
       " ('Philip Seymour Hoffman & Amy Adams', 3),\n",
       " ('Angelina Jolie & Jack Black', 3),\n",
       " ('Johnny Depp & Geoffrey Rush', 3),\n",
       " ('Johnny Depp & Paul Bettany', 3),\n",
       " ('Johnny Depp & Orlando Bloom', 3),\n",
       " ('Johnny Depp & Keira Knightley', 3),\n",
       " ('Johnny Depp & Bill Nighy', 3),\n",
       " ('Robert Pattinson & Ashley Greene', 3),\n",
       " ('Dwayne Johnson & Vin Diesel', 3),\n",
       " ('Dwayne Johnson & Paul Walker', 3),\n",
       " ('Ashley Greene & Kristen Stewart', 3),\n",
       " ('Ashley Greene & Robert Pattinson', 3),\n",
       " ('Ashley Greene & Taylor Lautner', 3),\n",
       " ('John Leguizamo & Denis Leary', 3),\n",
       " ('John Leguizamo & Ray Romano', 3),\n",
       " ('Justin Bartha & Zach Galifianakis', 3),\n",
       " ('Justin Bartha & Ed Helms', 3),\n",
       " ('Tom Cruise & Ving Rhames', 3),\n",
       " ('Jason Biggs & Thomas Ian Nicholas', 3),\n",
       " ('Jason Biggs & Seann William Scott', 3),\n",
       " ('Geoffrey Rush & Johnny Depp', 3),\n",
       " ('Kate Winslet & Jude Law', 3),\n",
       " ('Vince Vaughn & Owen Wilson', 3),\n",
       " ('Paul Walker & Michelle Rodriguez', 3),\n",
       " ('Paul Walker & Dwayne Johnson', 3),\n",
       " ('Woody Harrelson & Elizabeth Banks', 3),\n",
       " ('Daniel Craig & Judi Dench', 3),\n",
       " ('Tobey Maguire & James Franco', 3),\n",
       " ('Tobey Maguire & Kirsten Dunst', 3),\n",
       " ('Scarlett Johansson & Robert Downey Jr.', 3),\n",
       " ('Ashley Judd & Morgan Freeman', 3),\n",
       " ('Alexa PenaVega & Antonio Banderas', 3),\n",
       " ('Alexa PenaVega & Daryl Sabara', 3),\n",
       " ('Alexa PenaVega & Carla Gugino', 3),\n",
       " ('Kal Penn & Neil Patrick Harris', 3),\n",
       " ('Kal Penn & John Cho', 3),\n",
       " ('Ralph Fiennes & Daniel Radcliffe', 3),\n",
       " ('Ralph Fiennes & Rupert Grint', 3),\n",
       " ('Ralph Fiennes & Emma Watson', 3),\n",
       " ('Ving Rhames & Tom Cruise', 3),\n",
       " ('Elizabeth Banks & Jennifer Lawrence', 3),\n",
       " ('Elizabeth Banks & Woody Harrelson', 3),\n",
       " ('Elizabeth Banks & Josh Hutcherson', 3),\n",
       " ('Elizabeth Banks & Liam Hemsworth', 3),\n",
       " ('Jason Statham & FranÃ§ois BerlÃ©and', 3),\n",
       " ('Jason Statham & Sylvester Stallone', 3),\n",
       " ('Hugh Jackman & Famke Janssen', 3),\n",
       " ('John Cho & Kal Penn', 3),\n",
       " ('John Cho & Neil Patrick Harris', 3),\n",
       " ('Emma Watson & Ralph Fiennes', 3),\n",
       " ('Liam Hemsworth & Elizabeth Banks', 3),\n",
       " ('Julie Andrews & Mike Myers', 3),\n",
       " ('Julie Andrews & Cameron Diaz', 3),\n",
       " ('Julie Andrews & Antonio Banderas', 3),\n",
       " ('Julie Andrews & Eddie Murphy', 3),\n",
       " ('Martin Freeman & Richard Armitage', 3),\n",
       " ('Martin Freeman & Ian McKellen', 3),\n",
       " ('James Franco & Danny McBride', 3),\n",
       " ('James Franco & Kirsten Dunst', 3),\n",
       " ('James Franco & Seth Rogen', 3),\n",
       " ('James Franco & Tobey Maguire', 3),\n",
       " ('Shawn Wayans & Marlon Wayans', 3),\n",
       " ('Giovanni Ribisi & Mark Wahlberg', 3),\n",
       " ('Emily Blunt & Jason Segel', 3),\n",
       " ('Michelle Rodriguez & Vin Diesel', 3),\n",
       " ('Michelle Rodriguez & Paul Walker', 3),\n",
       " ('Hayden Christensen & Samuel L. Jackson', 3),\n",
       " ('Denzel Washington & Kimberly Elise', 3),\n",
       " ('Arnold Schwarzenegger & Sylvester Stallone', 3),\n",
       " ('Kevin Pollak & Bruce Willis', 3),\n",
       " ('Michael Caine & Gary Oldman', 3),\n",
       " ('Bruce Willis & Kevin Pollak', 3),\n",
       " ('Zachary Gordon & Steve Zahn', 3),\n",
       " ('Zachary Gordon & Rachael Harris', 3),\n",
       " ('Rupert Grint & Ralph Fiennes', 3),\n",
       " ('Rachael Harris & Steve Zahn', 3),\n",
       " ('Rachael Harris & Zachary Gordon', 3),\n",
       " ('David Schwimmer & Chris Rock', 3),\n",
       " ('David Schwimmer & Ben Stiller', 3),\n",
       " ('Eddie Murphy & Antonio Banderas', 3),\n",
       " ('Eddie Murphy & Julie Andrews', 3),\n",
       " ('Elijah Wood & Orlando Bloom', 3),\n",
       " ('Elijah Wood & Liv Tyler', 3),\n",
       " ('Elijah Wood & Viggo Mortensen', 3),\n",
       " ('Elijah Wood & Ian McKellen', 3),\n",
       " ('Ben Stiller & Chris Rock', 3),\n",
       " ('Ben Stiller & Robin Williams', 3),\n",
       " ('Ben Stiller & Robert De Niro', 3),\n",
       " ('Ben Stiller & David Schwimmer', 3),\n",
       " ('Antonio Banderas & Alexa PenaVega', 3),\n",
       " ('Antonio Banderas & Mike Myers', 3),\n",
       " ('Antonio Banderas & Daryl Sabara', 3),\n",
       " ('Antonio Banderas & Eddie Murphy', 3),\n",
       " ('Antonio Banderas & Carla Gugino', 3),\n",
       " ('Antonio Banderas & Cameron Diaz', 3),\n",
       " ('Antonio Banderas & Julie Andrews', 3),\n",
       " ('Chris Rock & Ben Stiller', 3),\n",
       " ('Chris Rock & David Schwimmer', 3),\n",
       " ('Taylor Lautner & Ashley Greene', 3),\n",
       " ('Ron Perlman & John Hurt', 3),\n",
       " ('Josh Duhamel & Shia LaBeouf', 3),\n",
       " ('Seth Rogen & James Franco', 3),\n",
       " ('Seth Rogen & Jonah Hill', 3),\n",
       " ('Seth Rogen & Paul Rudd', 3),\n",
       " ('Carla Gugino & Antonio Banderas', 3),\n",
       " ('Carla Gugino & Alexa PenaVega', 3),\n",
       " ('Carla Gugino & Daryl Sabara', 3),\n",
       " ('Jay Baruchel & Jonah Hill', 3),\n",
       " ('Shia LaBeouf & Josh Duhamel', 3),\n",
       " ('John Hurt & Ron Perlman', 3),\n",
       " ('Robert De Niro & Ben Stiller', 3),\n",
       " ('Ken Jeong & Bradley Cooper', 3),\n",
       " ('Jennifer Connelly & Russell Crowe', 3),\n",
       " ('Owen Wilson & Vince Vaughn', 3),\n",
       " ('Cameron Diaz & Antonio Banderas', 3),\n",
       " ('Cameron Diaz & Julie Andrews', 3),\n",
       " ('Georgie Henley & Skandar Keynes', 3),\n",
       " ('Ewan McGregor & Jim Broadbent', 2),\n",
       " ('Ewan McGregor & Natalie Portman', 2),\n",
       " ('Ewan McGregor & RenÃ©e Zellweger', 2),\n",
       " ('Ewan McGregor & Ian McDiarmid', 2),\n",
       " ('Ewan McGregor & Samuel L. Jackson', 2),\n",
       " ('Ewan McGregor & Naomi Watts', 2),\n",
       " ('Ewan McGregor & Hayden Christensen', 2),\n",
       " ('Eva Mendes & Mark Wahlberg', 2),\n",
       " ('Eva Mendes & Nicolas Cage', 2),\n",
       " ('Eva Mendes & Samuel L. Jackson', 2),\n",
       " ('Jason Sudeikis & Jason Bateman', 2),\n",
       " ('Jason Sudeikis & Jennifer Aniston', 2),\n",
       " ('Jason Sudeikis & Charlie Day', 2),\n",
       " ('Jason Sudeikis & Colin Farrell', 2),\n",
       " ('Timothy Spall & Helena Bonham Carter', 2),\n",
       " ('Brian Cox & Franka Potente', 2),\n",
       " ('Brian Cox & Matt Damon', 2),\n",
       " ('Jon Favreau & Vince Vaughn', 2),\n",
       " ('Jon Favreau & Jason Bateman', 2),\n",
       " ('Jason Bateman & Kristen Wiig', 2),\n",
       " ('Jason Bateman & Jennifer Garner', 2),\n",
       " ('Jason Bateman & Jason Sudeikis', 2),\n",
       " ('Jason Bateman & Charlie Day', 2),\n",
       " ('Jason Bateman & Jon Favreau', 2),\n",
       " ('Jason Bateman & Ben Affleck', 2),\n",
       " ('Helena Bonham Carter & Timothy Spall', 2),\n",
       " ('Helena Bonham Carter & Ralph Fiennes', 2),\n",
       " ('Tilda Swinton & George Clooney', 2),\n",
       " ('Tilda Swinton & Brad Pitt', 2),\n",
       " ('Mark Strong & Russell Crowe', 2),\n",
       " ('Alyson Hannigan & Seann William Scott', 2),\n",
       " ('Alyson Hannigan & Thomas Ian Nicholas', 2),\n",
       " ('Alyson Hannigan & Jason Biggs', 2),\n",
       " ('Joaquin Phoenix & Robert Patrick', 2),\n",
       " ('Joaquin Phoenix & Reese Witherspoon', 2),\n",
       " ('Joaquin Phoenix & Amy Adams', 2),\n",
       " ('Samuel L. Jackson & Ewan McGregor', 2),\n",
       " ('Samuel L. Jackson & Scarlett Johansson', 2),\n",
       " ('Samuel L. Jackson & Eva Mendes', 2),\n",
       " ('Samuel L. Jackson & Natalie Portman', 2),\n",
       " ('Samuel L. Jackson & Ian McDiarmid', 2),\n",
       " ('Samuel L. Jackson & Kerry Washington', 2),\n",
       " ('Anna Faris & Bill Hader', 2),\n",
       " ('Anna Faris & James Caan', 2),\n",
       " ('Anna Faris & Regina Hall', 2),\n",
       " ('Rene Russo & Robert De Niro', 2),\n",
       " ('Justin Long & Matt Dillon', 2),\n",
       " ('Robert Downey Jr. & Chris Hemsworth', 2),\n",
       " ('Robert Downey Jr. & Don Cheadle', 2),\n",
       " ('Robert Downey Jr. & Chris Evans', 2),\n",
       " ('Robert Downey Jr. & Jamie Foxx', 2),\n",
       " ('Robert Downey Jr. & Jude Law', 2),\n",
       " ('Jeffrey Tambor & Ron Perlman', 2),\n",
       " ('Jeffrey Tambor & Selma Blair', 2),\n",
       " ('Jeffrey Tambor & John Hurt', 2),\n",
       " ('Christina Applegate & Steve Carell', 2),\n",
       " ('Christina Applegate & David Koechner', 2),\n",
       " ('Christina Applegate & Will Ferrell', 2),\n",
       " ('Christina Applegate & Paul Rudd', 2),\n",
       " ('Karl Urban & Vin Diesel', 2),\n",
       " ('Stellan SkarsgÃ¥rd & Colin Firth', 2),\n",
       " ('Chris Klein & Seann William Scott', 2),\n",
       " ('Chris Klein & Thomas Ian Nicholas', 2),\n",
       " ('Chris Klein & Jason Biggs', 2),\n",
       " ('Viggo Mortensen & Vincent Cassel', 2),\n",
       " ('Michael Sheen & Shane Brolly', 2),\n",
       " ('Michael Sheen & Bill Nighy', 2),\n",
       " ('Thomas Ian Nicholas & Eddie Kaye Thomas', 2),\n",
       " ('Thomas Ian Nicholas & Alyson Hannigan', 2),\n",
       " ('Thomas Ian Nicholas & Chris Klein', 2),\n",
       " ('Danny McBride & Seth Rogen', 2),\n",
       " ('Anna Maria Horsford & Mike Epps', 2),\n",
       " (\"Dylan O'Brien & Kaya Scodelario\", 2),\n",
       " ('Charlie Day & Jason Bateman', 2),\n",
       " ('Charlie Day & Jason Sudeikis', 2),\n",
       " ('Charlie Day & Jennifer Aniston', 2),\n",
       " ('Freddie Prinze Jr. & Matthew Lillard', 2),\n",
       " ('Logan Lerman & Russell Crowe', 2),\n",
       " ('Logan Lerman & Emma Watson', 2),\n",
       " ('Logan Lerman & Alexandra Daddario', 2),\n",
       " ('Logan Lerman & Brandon T. Jackson', 2),\n",
       " ('Nicolas Cage & Eva Mendes', 2),\n",
       " ('Nicolas Cage & Jon Voight', 2),\n",
       " ('Nicolas Cage & Diane Kruger', 2),\n",
       " ('Nicolas Cage & Meryl Streep', 2),\n",
       " ('Judi Dench & Bill Nighy', 2),\n",
       " ('Natalie Portman & Ewan McGregor', 2),\n",
       " ('Natalie Portman & Chris Hemsworth', 2),\n",
       " ('Natalie Portman & Anthony Hopkins', 2),\n",
       " ('Natalie Portman & Tom Hiddleston', 2),\n",
       " ('Natalie Portman & Hayden Christensen', 2),\n",
       " ('Natalie Portman & Samuel L. Jackson', 2),\n",
       " ('Natalie Portman & Ian McDiarmid', 2),\n",
       " ('Christopher Plummer & Jennifer Connelly', 2),\n",
       " ('Hank Azaria & Neil Patrick Harris', 2),\n",
       " ('Hope Davis & Anthony Hopkins', 2),\n",
       " ('Patrick Stewart & James McAvoy', 2),\n",
       " ('Cedric the Entertainer & Ice Cube', 2),\n",
       " ('Cedric the Entertainer & Sean Patrick Thomas', 2),\n",
       " ('Shailene Woodley & Ansel Elgort', 2),\n",
       " ('Shailene Woodley & Theo James', 2),\n",
       " ('Shailene Woodley & Kate Winslet', 2),\n",
       " ('Shailene Woodley & Miles Teller', 2),\n",
       " ('Barbra Streisand & Dustin Hoffman', 2),\n",
       " ('Barbra Streisand & Ben Stiller', 2),\n",
       " ('Barbra Streisand & Robert De Niro', 2),\n",
       " ('Jack Black & Amanda Peet', 2),\n",
       " ('Jack Black & Dustin Hoffman', 2),\n",
       " ('Jack Black & Jackie Chan', 2),\n",
       " ('Zach Galifianakis & Ken Jeong', 2),\n",
       " ('Guy Pearce & Charlize Theron', 2),\n",
       " ('Guy Pearce & Ben Kingsley', 2),\n",
       " ('Eve & Tom Everett Scott', 2),\n",
       " ('Eve & Alice Eve', 2),\n",
       " ('Richard Gere & Susan Sarandon', 2),\n",
       " ('Martin Sheen & Leonardo DiCaprio', 2),\n",
       " ('Daniel Radcliffe & Michael Gambon', 2),\n",
       " ('Sacha Baron Cohen & Chris Rock', 2),\n",
       " ('Sacha Baron Cohen & Ben Stiller', 2),\n",
       " ('Sacha Baron Cohen & David Schwimmer', 2),\n",
       " ('Jim Carrey & Richard Jenkins', 2),\n",
       " ('Jim Carrey & Steve Carell', 2),\n",
       " ('Anna Popplewell & Skandar Keynes', 2),\n",
       " ('Anna Popplewell & Georgie Henley', 2),\n",
       " ('Anna Popplewell & William Moseley', 2),\n",
       " ('Anthony Anderson & DMX', 2),\n",
       " ('Mia Wasikowska & Jessica Chastain', 2),\n",
       " ('David Carradine & Uma Thurman', 2),\n",
       " ('David Carradine & Daryl Hannah', 2),\n",
       " ('Amanda Seyfried & Hugh Jackman', 2),\n",
       " ('Christine Taylor & Ben Stiller', 2),\n",
       " ('Dwight Yoakam & Efren Ramirez', 2),\n",
       " ('Dwight Yoakam & Amy Smart', 2),\n",
       " ('Dwight Yoakam & Jason Statham', 2),\n",
       " ('Kate Beckinsale & Shane Brolly', 2),\n",
       " ('Kate Beckinsale & Scott Speedman', 2),\n",
       " ('Kate Beckinsale & Bill Nighy', 2),\n",
       " ('Tom Hollander & Cate Blanchett', 2),\n",
       " ('Selma Blair & John Hurt', 2),\n",
       " ('Selma Blair & Ron Perlman', 2),\n",
       " ('Selma Blair & Jeffrey Tambor', 2),\n",
       " ('Jason Segel & Leslie Mann', 2),\n",
       " ('Jason Segel & Cameron Diaz', 2),\n",
       " ('Jason Segel & Russell Brand', 2),\n",
       " ('Julia Roberts & Tom Hanks', 2),\n",
       " ('Julia Roberts & George Clooney', 2),\n",
       " ('Julia Roberts & Paul Giamatti', 2),\n",
       " ('Julia Roberts & Andy GarcÃ\\xada', 2),\n",
       " ('Julia Roberts & Meryl Streep', 2),\n",
       " ('Julia Roberts & Clive Owen', 2),\n",
       " ('Devon Bostick & Steve Zahn', 2),\n",
       " ('Devon Bostick & Zachary Gordon', 2),\n",
       " ('Devon Bostick & Rachael Harris', 2),\n",
       " ('Jeff Bridges & Kevin Spacey', 2),\n",
       " ('Seann William Scott & Alyson Hannigan', 2),\n",
       " ('Seann William Scott & John Leguizamo', 2),\n",
       " ('Seann William Scott & Chris Klein', 2),\n",
       " ('Seann William Scott & Denis Leary', 2),\n",
       " ('Seann William Scott & Eddie Kaye Thomas', 2),\n",
       " ('Seann William Scott & Dwayne Johnson', 2),\n",
       " ('Seann William Scott & Ray Romano', 2),\n",
       " ('Amy Smart & Efren Ramirez', 2),\n",
       " ('Amy Smart & Dwight Yoakam', 2),\n",
       " ('Amy Smart & Jason Statham', 2),\n",
       " ('Amy Smart & Breckin Meyer', 2),\n",
       " ('Radha Mitchell & Sean Bean', 2),\n",
       " ('Tyler Perry & Malik Yoba', 2),\n",
       " ('Tyler Perry & Jill Scott', 2),\n",
       " ('Tyler Perry & Janet Jackson', 2),\n",
       " ('Ray Romano & Seann William Scott', 2),\n",
       " ('Oded Fehr & Milla Jovovich', 2),\n",
       " ('Vin Diesel & Karl Urban', 2),\n",
       " ('Ed Helms & Ken Jeong', 2),\n",
       " ('Orlando Bloom & Geoffrey Rush', 2),\n",
       " ('Orlando Bloom & Jack Davenport', 2),\n",
       " ('Orlando Bloom & Bill Nighy', 2),\n",
       " ('Joseph Gordon-Levitt & Seth Rogen', 2),\n",
       " ('Raini Rodriguez & Kevin James', 2),\n",
       " ('Billy Crystal & John Goodman', 2),\n",
       " ('Billy Crystal & Steve Buscemi', 2),\n",
       " ('Steve Buscemi & Kevin James', 2),\n",
       " ('Steve Buscemi & Billy Crystal', 2),\n",
       " ('Steve Buscemi & John Goodman', 2),\n",
       " ('Steve Buscemi & Selena Gomez', 2),\n",
       " ('Jonah Hill & Gerard Butler', 2),\n",
       " ('Jonah Hill & Channing Tatum', 2),\n",
       " ('Jonah Hill & Dave Franco', 2),\n",
       " ('Jonah Hill & Brad Pitt', 2),\n",
       " ('Glenn Close & Patrick Warburton', 2),\n",
       " ('Dolph Lundgren & Sylvester Stallone', 2),\n",
       " ('Dolph Lundgren & Jason Statham', 2),\n",
       " ('Cary Elwes & Joanna Lumley', 2),\n",
       " ('John Goodman & Patrick Warburton', 2),\n",
       " ('John Goodman & Billy Crystal', 2),\n",
       " ('John Goodman & Steve Buscemi', 2),\n",
       " ('John Goodman & George Clooney', 2),\n",
       " ('John Goodman & Alan Arkin', 2),\n",
       " ('Nia Long & Martin Lawrence', 2),\n",
       " ('Michael Fassbender & James McAvoy', 2),\n",
       " ('Rain & Raini Rodriguez', 2),\n",
       " ('Rain & Kevin James', 2),\n",
       " ('Rain & Rainn Wilson', 2),\n",
       " ('Steve Zahn & Robert Capron', 2),\n",
       " ('Steve Zahn & Matthew McConaughey', 2),\n",
       " ('Steve Zahn & Devon Bostick', 2),\n",
       " ('Matthew Lillard & Freddie Prinze Jr.', 2),\n",
       " (\"Kevin Smith & Brian O'Halloran\", 2),\n",
       " ('Kevin Smith & Jason Mewes', 2),\n",
       " ('Kevin Smith & Jeff Anderson', 2),\n",
       " ('Maggie Gyllenhaal & Emma Thompson', 2),\n",
       " ('Chris Tucker & Jackie Chan', 2),\n",
       " ('David Arquette & Courteney Cox', 2),\n",
       " ('David Arquette & Neve Campbell', 2),\n",
       " ('Paul Bettany & Russell Crowe', 2),\n",
       " ('Brendan Gleeson & Ben Whishaw', 2),\n",
       " ('Gary Oldman & Joel Kinnaman', 2),\n",
       " ('Gary Oldman & Tom Hardy', 2),\n",
       " ('Katie Featherston & Sprague Grayden', 2),\n",
       " ('Tom Welling & Steve Martin', 2),\n",
       " ('Tom Welling & Bonnie Hunt', 2),\n",
       " ('Matt Dillon & Justin Long', 2),\n",
       " ('Keira Knightley & Geoffrey Rush', 2),\n",
       " ('Keira Knightley & Jack Davenport', 2),\n",
       " ('Keira Knightley & Bill Nighy', 2),\n",
       " ('Regina Hall & Kevin Hart', 2),\n",
       " ('Regina Hall & Michael Ealy', 2),\n",
       " ('Regina Hall & Anna Faris', 2),\n",
       " ('Amy Adams & Tom Hanks', 2),\n",
       " ('Amy Adams & Joaquin Phoenix', 2),\n",
       " ('Amy Adams & Christian Bale', 2),\n",
       " ('Amy Adams & Meryl Streep', 2),\n",
       " ('Larry the Cable Guy & Owen Wilson', 2),\n",
       " ('Chris Pontius & Bam Margera', 2),\n",
       " ('Chris Pontius & Steve-O', 2),\n",
       " ('Chris Pontius & Johnny Knoxville', 2),\n",
       " ('Johnny Knoxville & Bam Margera', 2),\n",
       " ('Johnny Knoxville & Steve-O', 2),\n",
       " ('Johnny Knoxville & Chris Pontius', 2),\n",
       " ('Jennifer Lawrence & Bradley Cooper', 2),\n",
       " ('Frankie Muniz & Cynthia Stevenson', 2),\n",
       " ('Leonardo DiCaprio & Martin Sheen', 2),\n",
       " ('Leonardo DiCaprio & Tom Hardy', 2),\n",
       " ('Jeff Daniels & Cheryl Hines', 2),\n",
       " ('Dave Franco & Jonah Hill', 2),\n",
       " ('Dave Franco & Channing Tatum', 2),\n",
       " ('Dave Franco & Zac Efron', 2),\n",
       " ('Mike Epps & Don Curry', 2),\n",
       " ('Mike Epps & Anna Maria Horsford', 2),\n",
       " ('Mike Epps & John Witherspoon', 2),\n",
       " ('Marisa Tomei & Ryan Gosling', 2),\n",
       " ('Marisa Tomei & Philip Seymour Hoffman', 2),\n",
       " ('Hugh Grant & Gemma Jones', 2),\n",
       " ('Hugh Grant & Jim Broadbent', 2),\n",
       " ('Hugh Grant & Colin Firth', 2),\n",
       " ('Hugh Grant & RenÃ©e Zellweger', 2),\n",
       " ('Andy Serkis & Judy Greer', 2),\n",
       " ('Andy Serkis & Simon Pegg', 2),\n",
       " ('Jessica Biel & Bradley Cooper', 2),\n",
       " ('Matthew Davis & Michelle Rodriguez', 2),\n",
       " ('George Clooney & Richard Jenkins', 2),\n",
       " ('George Clooney & Catherine Zeta-Jones', 2),\n",
       " ('George Clooney & Bill Murray', 2),\n",
       " ('George Clooney & Julia Roberts', 2),\n",
       " ('George Clooney & Cate Blanchett', 2),\n",
       " ('George Clooney & Andy GarcÃ\\xada', 2),\n",
       " ('George Clooney & Tilda Swinton', 2),\n",
       " ('George Clooney & John Goodman', 2),\n",
       " ('Kim Cattrall & Sarah Jessica Parker', 2),\n",
       " ('Kim Cattrall & Chris Noth', 2),\n",
       " ('Kim Cattrall & Kristin Davis', 2),\n",
       " ('Kim Cattrall & Cynthia Nixon', 2),\n",
       " ('Jeremy Renner & Tom Cruise', 2),\n",
       " ('Jeremy Renner & Simon Pegg', 2),\n",
       " ('Richard Armitage & Ken Stott', 2),\n",
       " ('Richard Armitage & Graham McTavish', 2),\n",
       " ('Liam Neeson & Boyd Holbrook', 2),\n",
       " ('Liam Neeson & Julianne Moore', 2),\n",
       " ('Liam Neeson & Sam Worthington', 2),\n",
       " ('Liam Neeson & Ralph Fiennes', 2),\n",
       " ('Michael Gambon & Ben Whishaw', 2),\n",
       " ('Michael Gambon & Daniel Radcliffe', 2),\n",
       " ('Michael Gambon & Rupert Grint', 2),\n",
       " ('Michael Gambon & Emma Watson', 2),\n",
       " ('Michael Gambon & Ralph Fiennes', 2),\n",
       " ('Sanaa Lathan & Morris Chestnut', 2),\n",
       " ('Simon Rex & Charlie Sheen', 2),\n",
       " ('PenÃ©lope Cruz & Johnny Depp', 2),\n",
       " ('PenÃ©lope Cruz & Javier Bardem', 2),\n",
       " ('PenÃ©lope Cruz & Cameron Diaz', 2),\n",
       " ('Jamie Foxx & Kerry Washington', 2),\n",
       " ('Jamie Foxx & Robert Downey Jr.', 2),\n",
       " ('Sigourney Weaver & William Hurt', 2),\n",
       " ('Bill Nighy & Orlando Bloom', 2),\n",
       " ('Bill Nighy & Shane Brolly', 2),\n",
       " ('Bill Nighy & Judi Dench', 2),\n",
       " ('Bill Nighy & Kate Beckinsale', 2),\n",
       " ('Bill Nighy & Keira Knightley', 2),\n",
       " ('Bill Nighy & Michael Sheen', 2),\n",
       " ('Stephen Boss & Ryan Guzman', 2),\n",
       " ('Steve-O & Bam Margera', 2),\n",
       " ('Steve-O & Chris Pontius', 2),\n",
       " ('Steve-O & Johnny Knoxville', 2),\n",
       " ('Josh Brolin & Sean Penn', 2),\n",
       " ('Josh Brolin & Tommy Lee Jones', 2),\n",
       " ('Josh Brolin & Jessica Alba', 2),\n",
       " ('Johnny A. Sanchez & Robin Williams', 2),\n",
       " ('Colin Firth & Gemma Jones', 2),\n",
       " ('Colin Firth & Jim Broadbent', 2),\n",
       " ('Colin Firth & Stellan SkarsgÃ¥rd', 2),\n",
       " ('Colin Firth & RenÃ©e Zellweger', 2),\n",
       " ('Colin Firth & Hugh Grant', 2),\n",
       " ('Denis Leary & Seann William Scott', 2),\n",
       " ('Andrew Garfield & Emma Stone', 2),\n",
       " ('Tyler Mane & Scout Taylor-Compton', 2),\n",
       " ('Tyler Mane & Brad Dourif', 2),\n",
       " ('Joel Kinnaman & Gary Oldman', 2),\n",
       " ('Cher & Cherry Jones', 2),\n",
       " ('Cher & Cheryl Hines', 2),\n",
       " ('Cher & Robin Williams', 2),\n",
       " ('Cher & Jeff Daniels', 2),\n",
       " ('Don Cheadle & Robert Downey Jr.', 2),\n",
       " ('Don Cheadle & Gwyneth Paltrow', 2),\n",
       " ('Jesse Eisenberg & Leslie Mann', 2),\n",
       " ('Jesse Eisenberg & Anne Hathaway', 2),\n",
       " ('Jesse Eisenberg & Woody Harrelson', 2),\n",
       " ('John Witherspoon & Mike Epps', 2),\n",
       " ('John Witherspoon & Ice Cube', 2),\n",
       " ('John Witherspoon & Don Curry', 2),\n",
       " ('Amanda Detmer & Jason Biggs', 2),\n",
       " ('Keanu Reeves & Carrie-Anne Moss', 2),\n",
       " ('Keanu Reeves & Laurence Fishburne', 2),\n",
       " ('Keanu Reeves & Hugo Weaving', 2),\n",
       " ('William Hurt & Sigourney Weaver', 2),\n",
       " ('Jaden Smith & Will Smith', 2),\n",
       " ('Bonnie Hunt & Tom Welling', 2),\n",
       " ('Bonnie Hunt & Steve Martin', 2),\n",
       " ('Alexandra Daddario & Logan Lerman', 2),\n",
       " ('Alexandra Daddario & Brandon T. Jackson', 2),\n",
       " ('Billy Crudup & Marion Cotillard', 2),\n",
       " ('Mark Ruffalo & Scarlett Johansson', 2),\n",
       " ('Mark Ruffalo & Chris Hemsworth', 2),\n",
       " ('Mark Ruffalo & Chris Evans', 2),\n",
       " ('Ian McKellen & Ken Stott', 2),\n",
       " ('Ian McKellen & Jean Reno', 2),\n",
       " ('Ian McKellen & Graham McTavish', 2),\n",
       " ('James Caan & Anna Faris', 2),\n",
       " ('James Caan & Bill Hader', 2),\n",
       " ('Ian McDiarmid & Ewan McGregor', 2),\n",
       " ('Ian McDiarmid & Hayden Christensen', 2),\n",
       " ('Ian McDiarmid & Natalie Portman', 2),\n",
       " ('Ian McDiarmid & Samuel L. Jackson', 2),\n",
       " ('Milla Jovovich & Oded Fehr', 2),\n",
       " ('Milla Jovovich & Michelle Rodriguez', 2),\n",
       " ('Milla Jovovich & Ali Larter', 2),\n",
       " ('Milla Jovovich & Sienna Guillory', 2),\n",
       " ('Jack Davenport & Johnny Depp', 2),\n",
       " ('Jack Davenport & Orlando Bloom', 2),\n",
       " ('Jack Davenport & Keira Knightley', 2),\n",
       " ('Chris Evans & Chris Hemsworth', 2),\n",
       " ('Chris Evans & Julian McMahon', 2),\n",
       " ('Chris Evans & Mark Ruffalo', 2),\n",
       " ('Chris Evans & Robert Downey Jr.', 2),\n",
       " ('Chris Evans & Sebastian Stan', 2),\n",
       " ('Chris Evans & Ioan Gruffudd', 2),\n",
       " ('Chris Evans & Michael Chiklis', 2),\n",
       " ('Chris Evans & Jessica Alba', 2),\n",
       " ('Mark Wahlberg & Ben Foster', 2),\n",
       " ('Mark Wahlberg & Eva Mendes', 2),\n",
       " ('Mark Wahlberg & Seth MacFarlane', 2),\n",
       " ('Mark Wahlberg & Mila Kunis', 2),\n",
       " ('Mark Wahlberg & Dwayne Johnson', 2),\n",
       " ('Mark Wahlberg & Will Ferrell', 2),\n",
       " ('Mark Wahlberg & Stanley Tucci', 2),\n",
       " ('Regina King & Jennifer Coolidge', 2),\n",
       " ('Jude Law & Robert Downey Jr.', 2),\n",
       " ('Jude Law & Gwyneth Paltrow', 2),\n",
       " ('Jude Law & Rachel Weisz', 2),\n",
       " ('Jordana Brewster & Tyrese Gibson', 2),\n",
       " ('Jordana Brewster & Michelle Rodriguez', 2),\n",
       " ('Jordana Brewster & Dwayne Johnson', 2),\n",
       " ('Marion Cotillard & Billy Crudup', 2),\n",
       " ('Chris Hemsworth & Scarlett Johansson', 2),\n",
       " ('Chris Hemsworth & Anthony Hopkins', 2),\n",
       " ('Chris Hemsworth & Chris Evans', 2),\n",
       " ('Chris Hemsworth & Robert Downey Jr.', 2),\n",
       " ('Chris Hemsworth & Tom Hiddleston', 2),\n",
       " ('Chris Hemsworth & Natalie Portman', 2),\n",
       " ('Chris Hemsworth & Mark Ruffalo', 2),\n",
       " ('Adam Sandler & Andy Samberg', 2),\n",
       " ('Adam Sandler & Chris Rock', 2),\n",
       " ('Adam Sandler & Salma Hayek', 2),\n",
       " ('Adam Sandler & John Turturro', 2),\n",
       " ('Adam Sandler & David Spade', 2),\n",
       " ('Adam Sandler & Selena Gomez', 2),\n",
       " ('Adam Sandler & Drew Barrymore', 2),\n",
       " ('Skandar Keynes & Anna Popplewell', 2),\n",
       " ('Skandar Keynes & William Moseley', 2),\n",
       " ('Michael B. Jordan & Miles Teller', 2),\n",
       " ('Christian Bale & Willem Dafoe', 2),\n",
       " ('Christian Bale & Amy Adams', 2),\n",
       " ('Christian Bale & Melissa Leo', 2),\n",
       " ('Shane Brolly & Bill Nighy', 2),\n",
       " ('Shane Brolly & Scott Speedman', 2),\n",
       " ('Shane Brolly & Kate Beckinsale', 2),\n",
       " ('Shane Brolly & Michael Sheen', 2),\n",
       " ('Bobby Cannavale & Rose Byrne', 2),\n",
       " ('Edward Norton & Robert De Niro', 2),\n",
       " (\"Brian O'Halloran & Jason Mewes\", 2),\n",
       " (\"Brian O'Halloran & Kevin Smith\", 2),\n",
       " (\"Brian O'Halloran & Jeff Anderson\", 2),\n",
       " ('Joanna Lumley & Cary Elwes', 2),\n",
       " ('Tom Hardy & Gary Oldman', 2),\n",
       " ('Tom Hardy & Leonardo DiCaprio', 2),\n",
       " ('Paul Rudd & Leslie Mann', 2),\n",
       " ('Paul Rudd & Christina Applegate', 2),\n",
       " ('Paul Rudd & Elizabeth Banks', 2),\n",
       " ('Paul Rudd & David Koechner', 2),\n",
       " ('Paul Rudd & Will Ferrell', 2),\n",
       " ('Paul Rudd & Reese Witherspoon', 2),\n",
       " ('Morgan Freeman & Nathan Gamble', 2),\n",
       " ('Morgan Freeman & Harry Connick Jr.', 2),\n",
       " ('Ben Whishaw & Brendan Gleeson', 2),\n",
       " ('Ben Whishaw & Michael Gambon', 2),\n",
       " ('Kevin Hart & Regina Hall', 2),\n",
       " ('Kevin Hart & Michael Ealy', 2),\n",
       " ('Isaiah Washington & DMX', 2),\n",
       " ('Dustin Hoffman & Barbra Streisand', 2),\n",
       " ('Dustin Hoffman & Robert De Niro', 2),\n",
       " ('Dustin Hoffman & Jack Black', 2),\n",
       " ('Dustin Hoffman & Ben Stiller', 2),\n",
       " ('Dustin Hoffman & Jackie Chan', 2),\n",
       " ('Dustin Hoffman & Angelina Jolie', 2),\n",
       " ('Thomas Kretschmann & Adrien Brody', 2),\n",
       " ('Kris Kristofferson & Wesley Snipes', 2),\n",
       " ('Zac Efron & Imogen Poots', 2),\n",
       " ('Zac Efron & Dave Franco', 2),\n",
       " ('Miles Teller & Shailene Woodley', 2),\n",
       " ('Miles Teller & Michael B. Jordan', 2),\n",
       " ('Miles Teller & Theo James', 2),\n",
       " ('Miles Teller & Kate Winslet', 2),\n",
       " ('Bradley Cooper & Sienna Miller', 2),\n",
       " ('Bradley Cooper & Jessica Biel', 2),\n",
       " ('Bradley Cooper & Zoe Saldana', 2),\n",
       " ('Bradley Cooper & Jennifer Lawrence', 2),\n",
       " ('Bradley Cooper & Robert De Niro', 2),\n",
       " ('Ben Foster & Mark Wahlberg', 2),\n",
       " ('Cheryl Hines & Jeff Daniels', 2),\n",
       " ('Martin Lawrence & Nia Long', 2),\n",
       " ('Robin Williams & Owen Wilson', 2),\n",
       " ('Robin Williams & Johnny A. Sanchez', 2),\n",
       " ('Ice Cube & Cedric the Entertainer', 2),\n",
       " ('Ice Cube & Don Curry', 2),\n",
       " ('Ice Cube & John Witherspoon', 2),\n",
       " ('Ice Cube & Sean Patrick Thomas', 2),\n",
       " ('Eddie Kaye Thomas & Seann William Scott', 2),\n",
       " ('Eddie Kaye Thomas & Thomas Ian Nicholas', 2),\n",
       " ('Eddie Kaye Thomas & Jason Biggs', 2),\n",
       " ('Neil Patrick Harris & Hank Azaria', 2),\n",
       " ('Tyrese Gibson & Shia LaBeouf', 2),\n",
       " ('Tyrese Gibson & Paul Walker', 2),\n",
       " ('Tyrese Gibson & Megan Fox', 2),\n",
       " ('Tyrese Gibson & Jordana Brewster', 2),\n",
       " ('Tyrese Gibson & Josh Duhamel', 2),\n",
       " ('Bam Margera & Steve-O', 2),\n",
       " ('Bam Margera & Chris Pontius', 2),\n",
       " ('Bam Margera & Johnny Knoxville', 2),\n",
       " ('David Spade & Kevin James', 2),\n",
       " ('David Spade & Adam Sandler', 2),\n",
       " ('Jean Reno & Ian McKellen', 2),\n",
       " ('William H. Macy & Matthew McConaughey', 2),\n",
       " ('Alfred Molina & Johnny Depp', 2),\n",
       " ('Tom Holland & Cate Blanchett', 2),\n",
       " ('James Gandolfini & Brad Pitt', 2),\n",
       " ('Sarah Jessica Parker & Kristin Davis', 2),\n",
       " ('Sarah Jessica Parker & Kim Cattrall', 2),\n",
       " ('Sarah Jessica Parker & Chris Noth', 2),\n",
       " ('Sarah Jessica Parker & Cynthia Nixon', 2),\n",
       " ('Kristen Stewart & Billy Burke', 2),\n",
       " ('William Moseley & Anna Popplewell', 2),\n",
       " ('William Moseley & Skandar Keynes', 2),\n",
       " ('William Moseley & Georgie Henley', 2),\n",
       " ('Courteney Cox & David Arquette', 2),\n",
       " ('Courteney Cox & Neve Campbell', 2),\n",
       " ('Russell Crowe & Paul Bettany', 2),\n",
       " ('Russell Crowe & Logan Lerman', 2),\n",
       " ('Russell Crowe & Mark Strong', 2),\n",
       " ('Tom Kenny & Rodger Bumpass', 2),\n",
       " ('Tom Kenny & Carolyn Lawrence', 2),\n",
       " ('Tom Kenny & Bill Fagerbakke', 2),\n",
       " ('Tom Kenny & Clancy Brown', 2),\n",
       " ('John Turturro & Adam Sandler', 2),\n",
       " ('Chris Noth & Sarah Jessica Parker', 2),\n",
       " ('Chris Noth & Kim Cattrall', 2),\n",
       " ('Chris Noth & Kristin Davis', 2),\n",
       " ('Chris Noth & Cynthia Nixon', 2),\n",
       " (\"Jason Mewes & Brian O'Halloran\", 2),\n",
       " ('Jason Mewes & Kevin Smith', 2),\n",
       " ('Jason Mewes & Jeff Anderson', 2),\n",
       " ('Sylvester Stallone & Dolph Lundgren', 2),\n",
       " ('Jennifer Aniston & Jason Sudeikis', 2),\n",
       " ('Jennifer Aniston & Charlie Day', 2),\n",
       " ('Gwyneth Paltrow & Don Cheadle', 2),\n",
       " ('Gwyneth Paltrow & Jude Law', 2),\n",
       " ('Will Arnett & Steve Carell', 2),\n",
       " ('Will Arnett & Megan Fox', 2),\n",
       " ('Rodger Bumpass & Carolyn Lawrence', 2),\n",
       " ('Rodger Bumpass & Tom Kenny', 2),\n",
       " ('Rodger Bumpass & Bill Fagerbakke', 2),\n",
       " ('Rodger Bumpass & Clancy Brown', 2),\n",
       " ('Tom Hanks & Julia Roberts', 2),\n",
       " ('Tom Hanks & Amy Adams', 2),\n",
       " ('Judy Greer & Andy Serkis', 2),\n",
       " ('Emma Thompson & Maggie Gyllenhaal', 2),\n",
       " ('Emma Thompson & Rhys Ifans', 2),\n",
       " ('Emma Thompson & Kelly Macdonald', 2),\n",
       " ('Stanley Tucci & Mark Wahlberg', 2),\n",
       " ('Stanley Tucci & Susan Sarandon', 2),\n",
       " ('Stanley Tucci & Jennifer Lopez', 2),\n",
       " ('Stanley Tucci & Meryl Streep', 2),\n",
       " ('Russell Brand & Jason Segel', 2),\n",
       " ('Russell Brand & Steve Carell', 2),\n",
       " ('Shannyn Sossamon & Heath Ledger', 2),\n",
       " ('Jennifer Coolidge & Adam Campbell', 2),\n",
       " ('Jennifer Coolidge & Regina King', 2),\n",
       " ('Scott Speedman & Shane Brolly', 2),\n",
       " ('Scott Speedman & Kate Beckinsale', 2),\n",
       " ('Brad Dourif & Scout Taylor-Compton', 2),\n",
       " ('Brad Dourif & Tyler Mane', 2),\n",
       " ('Mark Rolston & Tobin Bell', 2),\n",
       " ('Mark Rolston & Costas Mandylor', 2),\n",
       " ('Mark Rolston & Betsy Russell', 2),\n",
       " ('Betsy Russell & Scott Patterson', 2),\n",
       " ('Betsy Russell & Mark Rolston', 2),\n",
       " ('Julie Walters & James McAvoy', 2),\n",
       " ('Julie Walters & Maggie Smith', 2),\n",
       " ('Michael Chiklis & Chris Evans', 2),\n",
       " ('Michael Chiklis & Jessica Alba', 2),\n",
       " ('Michael Chiklis & Julian McMahon', 2),\n",
       " ('Michael Chiklis & Ioan Gruffudd', 2),\n",
       " ('Ansel Elgort & Shailene Woodley', 2),\n",
       " ('Philip Seymour Hoffman & Marisa Tomei', 2),\n",
       " ('Clancy Brown & Rodger Bumpass', 2),\n",
       " ('Clancy Brown & Carolyn Lawrence', 2),\n",
       " ('Clancy Brown & Tom Kenny', 2),\n",
       " ('Clancy Brown & Bill Fagerbakke', 2),\n",
       " ('Ryan Guzman & Stephen Boss', 2),\n",
       " ('Franka Potente & Brian Cox', 2),\n",
       " ('Franka Potente & Matt Damon', 2),\n",
       " ('Megan Fox & Shia LaBeouf', 2),\n",
       " ('Megan Fox & Tyrese Gibson', 2),\n",
       " ('Megan Fox & Will Arnett', 2),\n",
       " ('Megan Fox & Josh Duhamel', 2),\n",
       " ('Charlie Sheen & Simon Rex', 2),\n",
       " ('Angelina Jolie & Dustin Hoffman', 2),\n",
       " ('Angelina Jolie & Giovanni Ribisi', 2),\n",
       " ('Angelina Jolie & John Malkovich', 2),\n",
       " ('Angelina Jolie & Noah Taylor', 2),\n",
       " ('Angelina Jolie & Jackie Chan', 2),\n",
       " ('Breckin Meyer & Seth Green', 2),\n",
       " ('Breckin Meyer & Amy Smart', 2),\n",
       " ('Bill Murray & Bruce Willis', 2),\n",
       " ('Bill Murray & Cate Blanchett', 2),\n",
       " ('Bill Murray & George Clooney', 2),\n",
       " ('Rosario Dawson & Jessica Alba', 2),\n",
       " ('Brandon T. Jackson & Alexandra Daddario', 2),\n",
       " ('Brandon T. Jackson & Logan Lerman', 2),\n",
       " ('Johnny Depp & Freddie Highmore', 2),\n",
       " ('Johnny Depp & PenÃ©lope Cruz', 2),\n",
       " ('Johnny Depp & Jack Davenport', 2),\n",
       " ('Johnny Depp & Giovanni Ribisi', 2),\n",
       " ('Johnny Depp & Alfred Molina', 2),\n",
       " ('Freddie Highmore & Johnny Depp', 2),\n",
       " ('Andy Samberg & Adam Sandler', 2),\n",
       " ('Jon Voight & Nicolas Cage', 2),\n",
       " ('Jon Voight & Diane Kruger', 2),\n",
       " ('Robert Pattinson & Billy Burke', 2),\n",
       " ('Jim Parsons & Steve Martin', 2),\n",
       " ('Cynthia Stevenson & Frankie Muniz', 2),\n",
       " ('Rose Byrne & Bobby Cannavale', 2),\n",
       " ('Eugene Levy & Steve Martin', 2),\n",
       " ('Javier Bardem & PenÃ©lope Cruz', 2),\n",
       " ('Zachary Quinto & Chris Pine', 2),\n",
       " ('Dwayne Johnson & Mark Wahlberg', 2),\n",
       " ('Dwayne Johnson & Carla Gugino', 2),\n",
       " ('Dwayne Johnson & Jordana Brewster', 2),\n",
       " ('Dwayne Johnson & Seann William Scott', 2),\n",
       " ('Armin Mueller-Stahl & Naomi Watts', 2),\n",
       " ('Wesley Snipes & Kris Kristofferson', 2),\n",
       " ('Don Curry & Mike Epps', 2),\n",
       " ('Don Curry & John Witherspoon', 2),\n",
       " ('Don Curry & Ice Cube', 2),\n",
       " ('Ashley Greene & Peter Facinelli', 2),\n",
       " ('Kevin James & Raini Rodriguez', 2),\n",
       " ('Kevin James & Steve Buscemi', 2),\n",
       " ('Kevin James & David Spade', 2),\n",
       " ('Kevin James & Selena Gomez', 2),\n",
       " ('Harry Connick Jr. & Ashley Judd', 2),\n",
       " ('Harry Connick Jr. & Nathan Gamble', 2),\n",
       " ('Harry Connick Jr. & Morgan Freeman', 2),\n",
       " ('Jet Li & DMX', 2),\n",
       " ('John Leguizamo & Seann William Scott', 2),\n",
       " ('Heath Ledger & Shannyn Sossamon', 2),\n",
       " ('Justin Bartha & Ken Jeong', 2),\n",
       " ('Jeffrey Wright & Daniel Craig', 2),\n",
       " ('Tom Cruise & Simon Pegg', 2),\n",
       " ('Tom Cruise & Jeremy Renner', 2),\n",
       " ('Tom Cruise & Cameron Diaz', 2),\n",
       " ('Vincent Cassel & Viggo Mortensen', 2),\n",
       " ('Asa Butterfield & Ben Kingsley', 2),\n",
       " ('Jason Biggs & Alyson Hannigan', 2),\n",
       " ('Jason Biggs & Amanda Detmer', 2),\n",
       " ('Jason Biggs & Chris Klein', 2),\n",
       " ('Jason Biggs & Eddie Kaye Thomas', 2),\n",
       " ('HÃ©ctor Elizondo & Julie Andrews', 2),\n",
       " ('HÃ©ctor Elizondo & Heather Matarazzo', 2),\n",
       " ('HÃ©ctor Elizondo & Anne Hathaway', 2),\n",
       " ('George W. Bush & Michael Moore', 2),\n",
       " ('Alec Baldwin & Cate Blanchett', 2),\n",
       " ('Greg Kinnear & Matt Damon', 2),\n",
       " ('Geoffrey Rush & Orlando Bloom', 2),\n",
       " ('Geoffrey Rush & Keira Knightley', 2),\n",
       " ('Kate Winslet & Shailene Woodley', 2),\n",
       " ('Kate Winslet & Theo James', 2),\n",
       " ('Kate Winslet & Miles Teller', 2),\n",
       " ('Neve Campbell & Courteney Cox', 2),\n",
       " ('Neve Campbell & David Arquette', 2),\n",
       " ('Catherine Zeta-Jones & George Clooney', 2),\n",
       " ('Ashton Kutcher & Katherine Heigl', 2),\n",
       " ('Vince Vaughn & John Travolta', 2),\n",
       " ('Vince Vaughn & Jon Favreau', 2),\n",
       " ('Vince Vaughn & Ben Stiller', 2),\n",
       " ('Paul Walker & Tyrese Gibson', 2),\n",
       " ('Peter Facinelli & Ashley Greene', 2),\n",
       " ('Adrien Brody & Thomas Kretschmann', 2),\n",
       " ('Jill Scott & Malik Yoba', 2),\n",
       " ('Jill Scott & Tyler Perry', 2),\n",
       " ('Jill Scott & Janet Jackson', 2),\n",
       " ('Daryl Hannah & Uma Thurman', 2),\n",
       " ('Daryl Hannah & David Carradine', 2),\n",
       " ('Drew Barrymore & Adam Sandler', 2),\n",
       " ('Drew Barrymore & Cameron Diaz', 2),\n",
       " ('Drew Barrymore & Lucy Liu', 2),\n",
       " ('Chris Cooper & Matt Damon', 2),\n",
       " ('Chris Cooper & Meryl Streep', 2),\n",
       " ('Emma Stone & Ryan Gosling', 2),\n",
       " ('Emma Stone & Andrew Garfield', 2),\n",
       " ('Mario & Billy Crudup', 2),\n",
       " ('Woody Harrelson & Jesse Eisenberg', 2),\n",
       " ('Nick Frost & Simon Pegg', 2),\n",
       " ('Jake Gyllenhaal & Anne Hathaway', 2),\n",
       " ('John Hannah & Brendan Fraser', 2),\n",
       " ('Rachel Weisz & Jude Law', 2),\n",
       " ('Daniel Craig & Eva Green', 2),\n",
       " ('Daniel Craig & Jamie Bell', 2),\n",
       " ('Daniel Craig & Jeffrey Wright', 2),\n",
       " ('Daniel Craig & Nicole Kidman', 2),\n",
       " ('Daniel Craig & Ralph Fiennes', 2),\n",
       " ('Zoe Saldana & Bradley Cooper', 2),\n",
       " ('David Wenham & Lena Headey', 2),\n",
       " ('David Wenham & Hugh Jackman', 2),\n",
       " ('Danny Trejo & Michelle Rodriguez', 2),\n",
       " ('Meryl Streep & Chris Cooper', 2),\n",
       " ('Meryl Streep & Emily Blunt', 2),\n",
       " ('Meryl Streep & Julia Roberts', 2),\n",
       " ('Meryl Streep & Nicolas Cage', 2),\n",
       " ('Meryl Streep & Stanley Tucci', 2),\n",
       " ('Meryl Streep & Amy Adams', 2),\n",
       " ('Efren Ramirez & Dwight Yoakam', 2),\n",
       " ('Efren Ramirez & Amy Smart', 2),\n",
       " ('Efren Ramirez & Jason Statham', 2),\n",
       " ('Scarlett Johansson & Chris Hemsworth', 2),\n",
       " ('Scarlett Johansson & Mark Ruffalo', 2),\n",
       " ('Scarlett Johansson & Samuel L. Jackson', 2),\n",
       " ('Will Smith & Jaden Smith', 2),\n",
       " ('Will Smith & Charlize Theron', 2),\n",
       " ('Will Smith & Tommy Lee Jones', 2),\n",
       " ('Jim Broadbent & Ewan McGregor', 2),\n",
       " ('Jim Broadbent & Gemma Jones', 2),\n",
       " ('Jim Broadbent & Colin Firth', 2),\n",
       " ('Jim Broadbent & RenÃ©e Zellweger', 2),\n",
       " ('Jim Broadbent & Hugh Grant', 2),\n",
       " ('Bill Fagerbakke & Rodger Bumpass', 2),\n",
       " ('Bill Fagerbakke & Carolyn Lawrence', 2),\n",
       " ...]"
      ]
     },
     "execution_count": 67,
     "metadata": {},
     "output_type": "execute_result"
    }
   ],
   "source": [
    "dict_duo = {}\n",
    "actors = set(\"|\".join(data.cast).split(\"|\"))\n",
    "\n",
    "\n",
    "for actor in actors:\n",
    "    data_actor_1 = data[data.cast.str.contains(actor)]\n",
    "    actors_duo = set(\"|\".join(data_actor_1.cast).split(\"|\"))\n",
    "    for actor_duo in actors_duo:\n",
    "        if actor_duo != actor:\n",
    "            data_duo = data_actor_1[data_actor_1.cast.str.contains(actor_duo)]\n",
    "            duo = actor + \" & \" + actor_duo\n",
    "            dict_duo[duo] = len(data_duo)\n",
    "    \n",
    "    \n",
    "cnt_duo = Counter(dict_duo)\n",
    "cnt_duo.most_common()"
   ]
  },
  {
   "cell_type": "markdown",
   "metadata": {
    "colab_type": "text",
    "id": "U0nONFnGVqAX"
   },
   "source": [
    "# Submission"
   ]
  },
  {
   "cell_type": "code",
   "execution_count": 68,
   "metadata": {
    "colab": {},
    "colab_type": "code",
    "id": "IfcaRO9-VqAX",
    "outputId": "0f132912-32bb-4196-c98c-abfbc4ad5a5f"
   },
   "outputs": [
    {
     "data": {
      "text/plain": [
       "{'1': '723. Pirates of the Caribbean: On Stranger Tides (tt1298650)',\n",
       " '2': '1157. Gods and Generals. (tt0279111)',\n",
       " '3': '768. Winnie the Pooh. (tt1449283)',\n",
       " '4': '110',\n",
       " '5': '107',\n",
       " '6': '239. Avatar. (tt0499549)',\n",
       " '7': '1245. The Lone Ranger. (tt1210819)',\n",
       " '8': '1478',\n",
       " '9': '599. The Dark Knight. (tt046569)',\n",
       " '10': '1245. The Lone Ranger. (tt1210819)',\n",
       " '11': 'Drama',\n",
       " '12': 'Drama',\n",
       " '13': 'Peter Jacson',\n",
       " '14': 'Robert Rodriguez',\n",
       " '15': 'Chris Hemsworth',\n",
       " '16': 'Matt Damon. 18',\n",
       " '17': 'Action',\n",
       " '18': '925. K-19:The Widowmaker. (tt0267626)',\n",
       " '19': '2015. 25449202382',\n",
       " '20': '2014. 3243064519',\n",
       " '21': '9. Сентябрь',\n",
       " '22': '450',\n",
       " '23': 'Peter Jackson. 7',\n",
       " '24': \"'Four By Two Productions'\",\n",
       " '25': 'Midnight Picture Show',\n",
       " '26': \"'Inside Out',\\n                 'Inside Out',\\n                 'Spotlight',\\n                 'Room',\\n                 'Interstellar',\\n                 'Guardians of the Galaxy',\\n                 'Big Hero 6',\\n                 'The Imitation Game',\\n                 'Gone Girl',\\n                 'The Grand Budapest Hotel',\\n                 'The Theory of Everything',\\n                 'The Fault in Our Stars',\\n                 'Mr. Nobody',\\n                 '3 Idiots',\\n                 'Inception',\\n                 'The Lord of the Rings: The Fellowship of the Ring',\\n                 'The Dark Knight',\\n                 'The Lord of the Rings: The Two Towers',\\n                 'The Pianist',\\n                 'The Lord of the Rings: The Return of the King',\\n                 'The Wolf of Wall Street',\\n                 'Her',\\n                 '12 Years a Slave',\\n                 'Prisoners',\\n                 'Dallas Buyers Club',\\n                 'The Prestige',\\n                 'Eternal Sunshine of the Spotless Mind',\\n                 'There Will Be Blood','Inside Out',\\n                 'Memento'\\n\",\n",
       " '27': 'Rupert Grint & Daniel Radcliffe, 8'}"
      ]
     },
     "execution_count": 68,
     "metadata": {},
     "output_type": "execute_result"
    }
   ],
   "source": [
    "# в конце можно посмотреть свои ответы к каждому вопросу\n",
    "answers"
   ]
  },
  {
   "cell_type": "code",
   "execution_count": 69,
   "metadata": {
    "colab": {},
    "colab_type": "code",
    "id": "SiRmHPl8VqAd"
   },
   "outputs": [
    {
     "data": {
      "text/plain": [
       "27"
      ]
     },
     "execution_count": 69,
     "metadata": {},
     "output_type": "execute_result"
    }
   ],
   "source": [
    "# и убедиться что ни чего не пропустил)\n",
    "len(answers)"
   ]
  },
  {
   "cell_type": "code",
   "execution_count": 0,
   "metadata": {
    "colab": {},
    "colab_type": "code",
    "id": "uCfuTkRbVqAg"
   },
   "outputs": [],
   "source": []
  },
  {
   "cell_type": "code",
   "execution_count": 0,
   "metadata": {
    "colab": {},
    "colab_type": "code",
    "id": "Vwx3NrkSVqAl"
   },
   "outputs": [],
   "source": []
  }
 ],
 "metadata": {
  "colab": {
   "name": "Copy of [SF-DST] Movies IMBD v4.1 TEMPLATE.ipynb",
   "provenance": []
  },
  "kernelspec": {
   "display_name": "Python 3",
   "language": "python",
   "name": "python3"
  },
  "language_info": {
   "codemirror_mode": {
    "name": "ipython",
    "version": 3
   },
   "file_extension": ".py",
   "mimetype": "text/x-python",
   "name": "python",
   "nbconvert_exporter": "python",
   "pygments_lexer": "ipython3",
   "version": "3.8.5"
  }
 },
 "nbformat": 4,
 "nbformat_minor": 1
}
